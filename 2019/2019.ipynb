{
 "cells": [
  {
   "cell_type": "markdown",
   "metadata": {},
   "source": [
    "# Day 1"
   ]
  },
  {
   "cell_type": "code",
   "execution_count": 1,
   "metadata": {},
   "outputs": [
    {
     "data": {
      "text/plain": [
       "100-element Array{Int64,1}:\n",
       " 125517\n",
       " 140694\n",
       "  65516\n",
       "  98562\n",
       "  75660\n",
       " 133603\n",
       " 114499\n",
       "  81732\n",
       " 119081\n",
       "  50911\n",
       "  96650\n",
       "  98330\n",
       " 145164\n",
       "      ⋮\n",
       " 109410\n",
       " 135350\n",
       " 112070\n",
       "  88822\n",
       " 149086\n",
       "  64594\n",
       " 118788\n",
       " 102569\n",
       "  61721\n",
       "  89170\n",
       "  83581\n",
       "  58722"
      ]
     },
     "execution_count": 1,
     "metadata": {},
     "output_type": "execute_result"
    }
   ],
   "source": [
    "input = parse.(Int, eachline(\"input1.txt\"))"
   ]
  },
  {
   "cell_type": "code",
   "execution_count": 2,
   "metadata": {},
   "outputs": [
    {
     "data": {
      "text/plain": [
       "3317100"
      ]
     },
     "execution_count": 2,
     "metadata": {},
     "output_type": "execute_result"
    }
   ],
   "source": [
    "sum(x ÷ 3 - 2 for x in input)"
   ]
  },
  {
   "cell_type": "code",
   "execution_count": 3,
   "metadata": {},
   "outputs": [
    {
     "data": {
      "text/plain": [
       "fuel_required (generic function with 1 method)"
      ]
     },
     "execution_count": 3,
     "metadata": {},
     "output_type": "execute_result"
    }
   ],
   "source": [
    "function fuel_required(mass::Integer)\n",
    "    baseFuel = mass ÷ 3 - 2\n",
    "    if baseFuel > 0\n",
    "        return baseFuel + fuel_required(baseFuel)\n",
    "    else\n",
    "        0\n",
    "    end\n",
    "end"
   ]
  },
  {
   "cell_type": "code",
   "execution_count": 4,
   "metadata": {},
   "outputs": [
    {
     "data": {
      "text/plain": [
       "4972784"
      ]
     },
     "execution_count": 4,
     "metadata": {},
     "output_type": "execute_result"
    }
   ],
   "source": [
    "sum(fuel_required(x) for x in input)"
   ]
  },
  {
   "cell_type": "markdown",
   "metadata": {},
   "source": [
    "# Day 2"
   ]
  },
  {
   "cell_type": "code",
   "execution_count": 1,
   "metadata": {},
   "outputs": [
    {
     "data": {
      "text/plain": [
       "145-element Array{Int64,1}:\n",
       "   1\n",
       "   0\n",
       "   0\n",
       "   3\n",
       "   1\n",
       "   1\n",
       "   2\n",
       "   3\n",
       "   1\n",
       "   3\n",
       "   4\n",
       "   3\n",
       "   1\n",
       "   ⋮\n",
       " 131\n",
       "   2\n",
       " 135\n",
       "   1\n",
       "  10\n",
       " 135\n",
       "   0\n",
       "  99\n",
       "   2\n",
       "   0\n",
       "  14\n",
       "   0"
      ]
     },
     "execution_count": 1,
     "metadata": {},
     "output_type": "execute_result"
    }
   ],
   "source": [
    "input = parse.(Int, split(readline(\"input2.txt\"), \",\"))"
   ]
  },
  {
   "cell_type": "code",
   "execution_count": 17,
   "metadata": {},
   "outputs": [
    {
     "ename": "ErrorException",
     "evalue": "invalid redefinition of constant Intcode",
     "output_type": "error",
     "traceback": [
      "invalid redefinition of constant Intcode",
      "",
      "Stacktrace:",
      " [1] top-level scope at none:0"
     ]
    }
   ],
   "source": [
    "mutable struct Intcode\n",
    "    memory::Vector{Int}\n",
    "    pc::Int\n",
    "    \n",
    "    Intcode(input::AbstractVector{Int64}) = new(input[:], 1)\n",
    "end"
   ]
  },
  {
   "cell_type": "code",
   "execution_count": 18,
   "metadata": {},
   "outputs": [
    {
     "data": {
      "text/plain": [
       "isdone (generic function with 1 method)"
      ]
     },
     "execution_count": 18,
     "metadata": {},
     "output_type": "execute_result"
    }
   ],
   "source": [
    "isdone(cpu::Intcode) = cpu.memory[cpu.pc] == 99"
   ]
  },
  {
   "cell_type": "code",
   "execution_count": 19,
   "metadata": {},
   "outputs": [
    {
     "data": {
      "text/plain": [
       "readNextInt (generic function with 1 method)"
      ]
     },
     "execution_count": 19,
     "metadata": {},
     "output_type": "execute_result"
    }
   ],
   "source": [
    "function readNextInt(cpu::Intcode)\n",
    "    ret = cpu.memory[cpu.pc]\n",
    "    cpu.pc += 1\n",
    "    return ret\n",
    "end"
   ]
  },
  {
   "cell_type": "code",
   "execution_count": 20,
   "metadata": {},
   "outputs": [
    {
     "data": {
      "text/plain": [
       "next! (generic function with 1 method)"
      ]
     },
     "execution_count": 20,
     "metadata": {},
     "output_type": "execute_result"
    }
   ],
   "source": [
    "function next!(cpu::Intcode)\n",
    "    opcode = readNextInt(cpu)\n",
    "    if opcode == 1\n",
    "        a,b,c = readNextInt(cpu),readNextInt(cpu),readNextInt(cpu)\n",
    "        cpu.memory[c+1] = cpu.memory[a+1] + cpu.memory[b+1]\n",
    "    elseif opcode == 2\n",
    "        a,b,c = readNextInt(cpu),readNextInt(cpu),readNextInt(cpu)\n",
    "        cpu.memory[c+1] = cpu.memory[a+1] * cpu.memory[b+1]\n",
    "    elseif opcode == 99\n",
    "        return\n",
    "    else\n",
    "        throw(\"Unknown opcode $opcode\")\n",
    "    end\n",
    "end"
   ]
  },
  {
   "cell_type": "code",
   "execution_count": 22,
   "metadata": {},
   "outputs": [
    {
     "name": "stdout",
     "output_type": "stream",
     "text": [
      "(i, j) = (98, 20)\n",
      "100i + j = 9820\n",
      "  0.215754 seconds (688.65 k allocations: 28.151 MiB, 1.69% gc time)\n"
     ]
    }
   ],
   "source": [
    "@time for i = 1:99, j = 1:99\n",
    "    let cpu = Intcode(input)\n",
    "        cpu.memory[2:3] = [i,j]\n",
    "        while !isdone(cpu)\n",
    "            next!(cpu)\n",
    "        end\n",
    "        if cpu.memory[1] == 19690720\n",
    "            @show i,j\n",
    "            @show 100*i+j\n",
    "        end\n",
    "    end\n",
    "end"
   ]
  },
  {
   "cell_type": "markdown",
   "metadata": {},
   "source": [
    "# Day 3"
   ]
  },
  {
   "cell_type": "code",
   "execution_count": 24,
   "metadata": {},
   "outputs": [
    {
     "data": {
      "text/plain": [
       "parseMove (generic function with 1 method)"
      ]
     },
     "execution_count": 24,
     "metadata": {},
     "output_type": "execute_result"
    }
   ],
   "source": [
    "const directions = Dict(\n",
    "    'L' => (-1, 0),\n",
    "    'R' => (+1, 0),\n",
    "    'U' => ( 0,-1),\n",
    "    'D' => ( 0,+1)\n",
    ")\n",
    "function parseMove(s)\n",
    "    dir = directions[s[1]]\n",
    "    steps = parse(Int, s[2:end])\n",
    "    return dir .* steps\n",
    "end"
   ]
  },
  {
   "cell_type": "code",
   "execution_count": 119,
   "metadata": {
    "scrolled": true
   },
   "outputs": [
    {
     "data": {
      "text/plain": [
       "2-element Array{Array{Tuple{Int64,Int64},1},1}:\n",
       " [(1008, 0), (0, 256), (-88, 0), (0, -390), (429, 0), (0, 828), (2, 0), (0, 452), (-644, 0), (0, 942)  …  (0, -911), (-21, 0), (0, 201), (-881, 0), (0, -119), (210, 0), (0, 700), (93, 0), (0, -208), (116, 0)]    \n",
       " [(-1009, 0), (0, 700), (-634, 0), (0, -294), (898, 0), (0, 947), (650, 0), (0, -988), (-623, 0), (0, 968)  …  (0, 625), (565, 0), (0, -728), (134, 0), (0, 406), (785, 0), (0, -583), (60, 0), (0, 819), (-939, 0)]"
      ]
     },
     "execution_count": 119,
     "metadata": {},
     "output_type": "execute_result"
    }
   ],
   "source": [
    "pathA, pathB = map.(parseMove, split.(eachline(\"input3.txt\"), \",\"))"
   ]
  },
  {
   "cell_type": "code",
   "execution_count": 52,
   "metadata": {},
   "outputs": [
    {
     "name": "stdout",
     "output_type": "stream",
     "text": [
      "(xMin, xMax) = (5042, 14066)\n",
      "(yMin, yMax) = (115, 11536)\n"
     ]
    },
    {
     "data": {
      "text/plain": [
       "(115, 11536)"
      ]
     },
     "execution_count": 52,
     "metadata": {},
     "output_type": "execute_result"
    }
   ],
   "source": [
    "let pos = (11857,3841)\n",
    "    positions = [pos]\n",
    "    for mv in pathA\n",
    "        pos = pos .+ mv\n",
    "        push!(positions,pos)\n",
    "    end\n",
    "    xPos = first.(positions)\n",
    "    xMin,xMax = minimum(xPos),maximum(xPos)\n",
    "    yPos = last.(positions)\n",
    "    yMin,yMax = minimum(yPos),maximum(yPos)\n",
    "    @show xMin, xMax\n",
    "    @show yMin, yMax\n",
    "end"
   ]
  },
  {
   "cell_type": "code",
   "execution_count": 53,
   "metadata": {},
   "outputs": [
    {
     "name": "stdout",
     "output_type": "stream",
     "text": [
      "(xMin, xMax) = (1, 13705)\n",
      "(yMin, yMax) = (1, 11122)\n"
     ]
    },
    {
     "data": {
      "text/plain": [
       "(1, 11122)"
      ]
     },
     "execution_count": 53,
     "metadata": {},
     "output_type": "execute_result"
    }
   ],
   "source": [
    "let pos = (11857,3841)\n",
    "    positions = [pos]\n",
    "    for mv in pathB\n",
    "        pos = pos .+ mv\n",
    "        push!(positions,pos)\n",
    "    end\n",
    "    xPos = first.(positions)\n",
    "    xMin,xMax = minimum(xPos),maximum(xPos)\n",
    "    yPos = last.(positions)\n",
    "    yMin,yMax = minimum(yPos),maximum(yPos)\n",
    "    @show xMin, xMax\n",
    "    @show yMin, yMax\n",
    "end"
   ]
  },
  {
   "cell_type": "code",
   "execution_count": 133,
   "metadata": {
    "scrolled": true
   },
   "outputs": [
    {
     "data": {
      "text/plain": [
       "14066×11536 BitArray{2}:\n",
       " false  false  false  false  false  …  false  false  false  false  false\n",
       " false  false  false  false  false     false  false  false  false  false\n",
       " false  false  false  false  false     false  false  false  false  false\n",
       " false  false  false  false  false     false  false  false  false  false\n",
       " false  false  false  false  false     false  false  false  false  false\n",
       " false  false  false  false  false  …  false  false  false  false  false\n",
       " false  false  false  false  false     false  false  false  false  false\n",
       " false  false  false  false  false     false  false  false  false  false\n",
       " false  false  false  false  false     false  false  false  false  false\n",
       " false  false  false  false  false     false  false  false  false  false\n",
       " false  false  false  false  false  …  false  false  false  false  false\n",
       " false  false  false  false  false     false  false  false  false  false\n",
       " false  false  false  false  false     false  false  false  false  false\n",
       "     ⋮                              ⋱                                  ⋮\n",
       " false  false  false  false  false     false  false  false  false  false\n",
       " false  false  false  false  false  …  false  false  false  false  false\n",
       " false  false  false  false  false     false  false  false  false  false\n",
       " false  false  false  false  false     false  false  false  false  false\n",
       " false  false  false  false  false     false  false  false  false  false\n",
       " false  false  false  false  false     false  false  false  false  false\n",
       " false  false  false  false  false  …  false  false  false  false  false\n",
       " false  false  false  false  false     false  false  false  false  false\n",
       " false  false  false  false  false     false  false  false  false  false\n",
       " false  false  false  false  false     false  false  false  false  false\n",
       " false  false  false  false  false     false  false  false  false  false\n",
       " false  false  false  false  false  …  false  false  false  false  false"
      ]
     },
     "execution_count": 133,
     "metadata": {},
     "output_type": "execute_result"
    }
   ],
   "source": [
    "grid = BitMatrix(undef, 14066, 11536)\n",
    "fill!(grid, false)"
   ]
  },
  {
   "cell_type": "code",
   "execution_count": 159,
   "metadata": {
    "scrolled": true
   },
   "outputs": [
    {
     "data": {
      "text/plain": [
       "20283176"
      ]
     },
     "execution_count": 159,
     "metadata": {},
     "output_type": "execute_result"
    }
   ],
   "source": [
    "sizeof(grid)"
   ]
  },
  {
   "cell_type": "code",
   "execution_count": 134,
   "metadata": {},
   "outputs": [],
   "source": [
    "let pos = (11857,3841)\n",
    "    for mv in pathA\n",
    "        newPos = pos .+ mv\n",
    "        if mv[1] != 0\n",
    "            r = Nothing\n",
    "            if mv[1] > 0\n",
    "                r = pos[1]+1:newPos[1]\n",
    "            else\n",
    "                r = pos[1]-1:-1:newPos[1]\n",
    "            end\n",
    "            grid[r, pos[2]:pos[2]] .= true\n",
    "        else\n",
    "            r = Nothing\n",
    "            if mv[2] > 0\n",
    "                r = pos[2]+1:newPos[2]\n",
    "            else\n",
    "                r = pos[2]-1:-1:newPos[2]\n",
    "            end\n",
    "            grid[pos[1]:pos[1], r] .= true\n",
    "        end\n",
    "        pos = newPos\n",
    "    end\n",
    "end"
   ]
  },
  {
   "cell_type": "code",
   "execution_count": 135,
   "metadata": {},
   "outputs": [
    {
     "data": {
      "text/plain": [
       "manhattendist (generic function with 1 method)"
      ]
     },
     "execution_count": 135,
     "metadata": {},
     "output_type": "execute_result"
    }
   ],
   "source": [
    "manhattendist(a, b) = abs.(a .- b) |> sum"
   ]
  },
  {
   "cell_type": "code",
   "execution_count": 136,
   "metadata": {},
   "outputs": [
    {
     "name": "stdout",
     "output_type": "stream",
     "text": [
      "closestDist = 870\n"
     ]
    },
    {
     "data": {
      "text/plain": [
       "159-element Array{Tuple{Int64,Int64},1}:\n",
       " (11806, 5174)\n",
       " (11900, 5135)\n",
       " (13208, 4747)\n",
       " (13226, 5602)\n",
       " (12564, 5602)\n",
       " (12423, 5135)\n",
       " (11969, 5135)\n",
       " (11806, 5260)\n",
       " (11729, 5697)\n",
       " (12429, 5440)\n",
       " (12477, 5440)\n",
       " (12564, 5440)\n",
       " (12642, 5929)\n",
       " ⋮            \n",
       " (7747, 5407) \n",
       " (7519, 5046) \n",
       " (6444, 2811) \n",
       " (6584, 2811) \n",
       " (6671, 2767) \n",
       " (6671, 2512) \n",
       " (6671, 2274) \n",
       " (5769, 1849) \n",
       " (5744, 1394) \n",
       " (5267, 689)  \n",
       " (5645, 689)  \n",
       " (5491, 689)  "
      ]
     },
     "execution_count": 136,
     "metadata": {},
     "output_type": "execute_result"
    }
   ],
   "source": [
    "intersections = let pos = (11857,3841)\n",
    "    closestDist = typemax(Int)\n",
    "    intersections = Tuple{Int,Int}[]\n",
    "    for mv in pathB\n",
    "        newPos = pos .+ mv\n",
    "        if mv[1] != 0\n",
    "            r = Nothing\n",
    "            if mv[1] > 0\n",
    "                r = pos[1]+1:newPos[1]\n",
    "            else\n",
    "                r = pos[1]-1:-1:newPos[1]\n",
    "            end\n",
    "            for i in r\n",
    "                if grid[i, pos[2]]\n",
    "                    dist = manhattendist((i,pos[2]), (11857,3841))\n",
    "                    if dist < closestDist\n",
    "                        closestDist = dist\n",
    "                    end\n",
    "                    push!(intersections, (i,pos[2]))\n",
    "                end\n",
    "            end\n",
    "        else\n",
    "            r = Nothing\n",
    "            if mv[2] > 0\n",
    "                r = pos[2]+1:newPos[2]\n",
    "            else\n",
    "                r = pos[2]-1:-1:newPos[2]\n",
    "            end\n",
    "            for j in r\n",
    "                if grid[pos[1], j]\n",
    "                    dist = manhattendist((pos[1], j), (11857,3841))\n",
    "                    if dist < closestDist\n",
    "                        closestDist = dist\n",
    "                    end\n",
    "                    push!(intersections, (pos[1], j))\n",
    "                end\n",
    "            end\n",
    "        end\n",
    "        pos = newPos\n",
    "    end\n",
    "    @show closestDist\n",
    "    \n",
    "    intersections\n",
    "end"
   ]
  },
  {
   "cell_type": "code",
   "execution_count": 137,
   "metadata": {},
   "outputs": [
    {
     "data": {
      "text/plain": [
       "Dict{Tuple{Int64,Int64},Tuple{Int64,Int64}} with 159 entries:\n",
       "  (8469, 5209)  => (-1, -1)\n",
       "  (9158, 6864)  => (-1, -1)\n",
       "  (11969, 5135) => (-1, -1)\n",
       "  (7917, 3622)  => (-1, -1)\n",
       "  (6671, 2512)  => (-1, -1)\n",
       "  (7702, 6486)  => (-1, -1)\n",
       "  (13008, 3707) => (-1, -1)\n",
       "  (7539, 8047)  => (-1, -1)\n",
       "  (7588, 3622)  => (-1, -1)\n",
       "  (8304, 4826)  => (-1, -1)\n",
       "  (7592, 6078)  => (-1, -1)\n",
       "  (7362, 7642)  => (-1, -1)\n",
       "  (7706, 3704)  => (-1, -1)\n",
       "  (12564, 5602) => (-1, -1)\n",
       "  (8052, 3728)  => (-1, -1)\n",
       "  (13458, 5881) => (-1, -1)\n",
       "  (12677, 5740) => (-1, -1)\n",
       "  (8290, 3572)  => (-1, -1)\n",
       "  (8052, 3704)  => (-1, -1)\n",
       "  (8166, 1828)  => (-1, -1)\n",
       "  (8307, 6739)  => (-1, -1)\n",
       "  (8173, 4905)  => (-1, -1)\n",
       "  (8398, 5422)  => (-1, -1)\n",
       "  (11729, 5697) => (-1, -1)\n",
       "  (7593, 5853)  => (-1, -1)\n",
       "  ⋮             => ⋮"
      ]
     },
     "execution_count": 137,
     "metadata": {},
     "output_type": "execute_result"
    }
   ],
   "source": [
    "intersectionSteps = Dict(\n",
    "    k => (-1,-1) for k in intersections\n",
    ")"
   ]
  },
  {
   "cell_type": "code",
   "execution_count": 138,
   "metadata": {},
   "outputs": [],
   "source": [
    "let pos = (11857,3841)\n",
    "    steps = 0\n",
    "    for mv in pathA\n",
    "        newPos = pos .+ mv\n",
    "        if mv[1] != 0\n",
    "            r = Nothing\n",
    "            if mv[1] > 0\n",
    "                r = pos[1]+1:newPos[1]\n",
    "            else\n",
    "                r = pos[1]-1:-1:newPos[1]\n",
    "            end\n",
    "            for i in r\n",
    "                steps += 1\n",
    "                if haskey(intersectionSteps, (i, pos[2])) && intersectionSteps[(i, pos[2])][1] == -1\n",
    "                    intersectionSteps[(i, pos[2])] = (steps, intersectionSteps[(i, pos[2])][2])\n",
    "                end\n",
    "            end\n",
    "        else\n",
    "            r = Nothing\n",
    "            if mv[2] > 0\n",
    "                r = pos[2]+1:newPos[2]\n",
    "            else\n",
    "                r = pos[2]-1:-1:newPos[2]\n",
    "            end\n",
    "            for j in r\n",
    "                steps += 1\n",
    "                if haskey(intersectionSteps, (pos[1],j)) && intersectionSteps[(pos[1],j)][1] == -1\n",
    "                    intersectionSteps[(pos[1],j)] = (steps, intersectionSteps[(pos[1],j)][2])\n",
    "                end\n",
    "            end\n",
    "        end\n",
    "        pos = newPos\n",
    "    end\n",
    "end"
   ]
  },
  {
   "cell_type": "code",
   "execution_count": 139,
   "metadata": {},
   "outputs": [],
   "source": [
    "let pos = (11857,3841)\n",
    "    steps = 0\n",
    "    for mv in pathB\n",
    "        newPos = pos .+ mv\n",
    "        if mv[1] != 0\n",
    "            r = Nothing\n",
    "            if mv[1] > 0\n",
    "                r = pos[1]+1:newPos[1]\n",
    "            else\n",
    "                r = pos[1]-1:-1:newPos[1]\n",
    "            end\n",
    "            for i in r\n",
    "                steps += 1\n",
    "                if haskey(intersectionSteps, (i, pos[2])) && intersectionSteps[(i, pos[2])][2] == -1\n",
    "                    intersectionSteps[(i, pos[2])] = (intersectionSteps[(i, pos[2])][1], steps)\n",
    "                end\n",
    "            end\n",
    "        else\n",
    "            r = Nothing\n",
    "            if mv[2] > 0\n",
    "                r = pos[2]+1:newPos[2]\n",
    "            else\n",
    "                r = pos[2]-1:-1:newPos[2]\n",
    "            end\n",
    "            for j in r\n",
    "                steps += 1\n",
    "                if haskey(intersectionSteps, (pos[1],j)) && intersectionSteps[(pos[1],j)][2] == -1\n",
    "                    intersectionSteps[(pos[1],j)] = (intersectionSteps[(pos[1],j)][1], steps)\n",
    "                end\n",
    "            end\n",
    "        end\n",
    "        pos = newPos\n",
    "    end\n",
    "end"
   ]
  },
  {
   "cell_type": "code",
   "execution_count": 141,
   "metadata": {},
   "outputs": [
    {
     "data": {
      "text/plain": [
       "13698"
      ]
     },
     "execution_count": 141,
     "metadata": {},
     "output_type": "execute_result"
    }
   ],
   "source": [
    "[a + b for (k,(a,b)) in intersectionSteps] |> minimum"
   ]
  },
  {
   "cell_type": "markdown",
   "metadata": {},
   "source": [
    "# Day 4"
   ]
  },
  {
   "cell_type": "code",
   "execution_count": 142,
   "metadata": {},
   "outputs": [
    {
     "data": {
      "text/plain": [
       "234208:765869"
      ]
     },
     "execution_count": 142,
     "metadata": {},
     "output_type": "execute_result"
    }
   ],
   "source": [
    "input = 234208:765869"
   ]
  },
  {
   "cell_type": "code",
   "execution_count": 143,
   "metadata": {},
   "outputs": [
    {
     "data": {
      "text/plain": [
       "part1_predicate (generic function with 1 method)"
      ]
     },
     "execution_count": 143,
     "metadata": {},
     "output_type": "execute_result"
    }
   ],
   "source": [
    "function part1_predicate(n::Integer)\n",
    "    D = digits(n)\n",
    "    issorted(D) && length(unique(D)) <= 5\n",
    "end"
   ]
  },
  {
   "cell_type": "code",
   "execution_count": 144,
   "metadata": {},
   "outputs": [
    {
     "data": {
      "text/plain": [
       "1246"
      ]
     },
     "execution_count": 144,
     "metadata": {},
     "output_type": "execute_result"
    }
   ],
   "source": [
    "count(part1_predicate, input)"
   ]
  },
  {
   "cell_type": "code",
   "execution_count": 157,
   "metadata": {},
   "outputs": [
    {
     "data": {
      "text/plain": [
       "countmap (generic function with 1 method)"
      ]
     },
     "execution_count": 157,
     "metadata": {},
     "output_type": "execute_result"
    }
   ],
   "source": [
    "function countmap(itr)\n",
    "    mp = Dict{eltype(itr), Int}()\n",
    "    for x in itr\n",
    "        if haskey(mp, x)\n",
    "            mp[x] += 1\n",
    "        else\n",
    "            mp[x] = 1\n",
    "        end\n",
    "    end\n",
    "    return mp\n",
    "end"
   ]
  },
  {
   "cell_type": "code",
   "execution_count": 148,
   "metadata": {},
   "outputs": [
    {
     "data": {
      "text/plain": [
       "part2_predicate (generic function with 1 method)"
      ]
     },
     "execution_count": 148,
     "metadata": {},
     "output_type": "execute_result"
    }
   ],
   "source": [
    "function part2_predicate(n::Integer)\n",
    "    D = digits(n)\n",
    "    issorted(D) && any(v==2 for v in values(countmap(D)))\n",
    "end"
   ]
  },
  {
   "cell_type": "code",
   "execution_count": 158,
   "metadata": {},
   "outputs": [
    {
     "data": {
      "text/plain": [
       "814"
      ]
     },
     "execution_count": 158,
     "metadata": {},
     "output_type": "execute_result"
    }
   ],
   "source": [
    "count(part2_predicate, input)"
   ]
  },
  {
   "cell_type": "markdown",
   "metadata": {},
   "source": [
    "# Day 5"
   ]
  },
  {
   "cell_type": "code",
   "execution_count": 100,
   "metadata": {},
   "outputs": [
    {
     "data": {
      "text/plain": [
       "678-element Array{Int64,1}:\n",
       "    3\n",
       "  225\n",
       "    1\n",
       "  225\n",
       "    6\n",
       "    6\n",
       " 1100\n",
       "    1\n",
       "  238\n",
       "  225\n",
       "  104\n",
       "    0\n",
       " 1101\n",
       "    ⋮\n",
       "  223\n",
       " 1005\n",
       "  224\n",
       "  674\n",
       "  101\n",
       "    1\n",
       "  223\n",
       "  223\n",
       "    4\n",
       "  223\n",
       "   99\n",
       "  226"
      ]
     },
     "execution_count": 100,
     "metadata": {},
     "output_type": "execute_result"
    }
   ],
   "source": [
    "input = parse.(Int,split(readline(\"input5.txt\"), \",\"))"
   ]
  },
  {
   "cell_type": "code",
   "execution_count": 102,
   "metadata": {},
   "outputs": [
    {
     "data": {
      "text/plain": [
       "next! (generic function with 2 methods)"
      ]
     },
     "execution_count": 102,
     "metadata": {},
     "output_type": "execute_result"
    }
   ],
   "source": [
    "include(\"Intcode.jl\")"
   ]
  },
  {
   "cell_type": "code",
   "execution_count": 106,
   "metadata": {},
   "outputs": [
    {
     "name": "stdout",
     "output_type": "stream",
     "text": [
      "10987514\n"
     ]
    }
   ],
   "source": [
    "let cpu = Intcode(input)\n",
    "    enqueue!(cpu.input, 1)\n",
    "    while !isdone(cpu)\n",
    "        next!(cpu)\n",
    "    end\n",
    "    println(last(collect(cpu.output)))\n",
    "end"
   ]
  },
  {
   "cell_type": "code",
   "execution_count": 111,
   "metadata": {},
   "outputs": [
    {
     "name": "stdout",
     "output_type": "stream",
     "text": [
      "14195011\n"
     ]
    }
   ],
   "source": [
    "let cpu = Intcode(input)\n",
    "    enqueue!(cpu.input, 5)\n",
    "    while !isdone(cpu)\n",
    "        next!(cpu)\n",
    "    end\n",
    "    println(dequeue!(cpu.output))\n",
    "end"
   ]
  },
  {
   "cell_type": "markdown",
   "metadata": {},
   "source": [
    "# Day 6"
   ]
  },
  {
   "cell_type": "code",
   "execution_count": 35,
   "metadata": {},
   "outputs": [
    {
     "data": {
      "text/plain": [
       "Dict{SubString{String},SubString{String}} with 1110 entries:\n",
       "  \"QMZ\" => \"F7V\"\n",
       "  \"YOU\" => \"SPV\"\n",
       "  \"3HG\" => \"Y9B\"\n",
       "  \"TK7\" => \"88Z\"\n",
       "  \"ZDH\" => \"N8P\"\n",
       "  \"SAN\" => \"6SF\"\n",
       "  \"HBF\" => \"K68\"\n",
       "  \"ZKZ\" => \"4F9\"\n",
       "  \"69M\" => \"2YN\"\n",
       "  \"F72\" => \"B53\"\n",
       "  \"PJF\" => \"N42\"\n",
       "  \"7TN\" => \"JQ9\"\n",
       "  \"QM5\" => \"ZKZ\"\n",
       "  \"JBN\" => \"N9V\"\n",
       "  \"KCL\" => \"B9W\"\n",
       "  \"9H9\" => \"F59\"\n",
       "  \"Y23\" => \"ZZZ\"\n",
       "  \"T7M\" => \"HPL\"\n",
       "  \"PKR\" => \"B4Y\"\n",
       "  \"X5S\" => \"LSR\"\n",
       "  \"KDX\" => \"XQ4\"\n",
       "  \"T6V\" => \"44Y\"\n",
       "  \"HF3\" => \"QBJ\"\n",
       "  \"8VL\" => \"36P\"\n",
       "  \"CGK\" => \"NX3\"\n",
       "  ⋮     => ⋮"
      ]
     },
     "execution_count": 35,
     "metadata": {},
     "output_type": "execute_result"
    }
   ],
   "source": [
    "input = Dict( (((a,b) = split(line, \")\")); b => a) for line in eachline(\"input6.txt\"))"
   ]
  },
  {
   "cell_type": "code",
   "execution_count": 8,
   "metadata": {},
   "outputs": [
    {
     "data": {
      "text/plain": [
       "count_orbits (generic function with 1 method)"
      ]
     },
     "execution_count": 8,
     "metadata": {},
     "output_type": "execute_result"
    }
   ],
   "source": [
    "orbitCount = Dict{String, Int}()\n",
    "function count_orbits(str)\n",
    "    if str == \"COM\"\n",
    "        0\n",
    "    elseif !haskey(orbitCount, str)\n",
    "        orbitCount[str] = 1 + count_orbits(input[str])\n",
    "    else\n",
    "        orbitCount[str]\n",
    "    end\n",
    "end"
   ]
  },
  {
   "cell_type": "code",
   "execution_count": 9,
   "metadata": {},
   "outputs": [
    {
     "data": {
      "text/plain": [
       "145250"
      ]
     },
     "execution_count": 9,
     "metadata": {},
     "output_type": "execute_result"
    }
   ],
   "source": [
    "sum(count_orbits(str) for (str, _) in input )"
   ]
  },
  {
   "cell_type": "code",
   "execution_count": 17,
   "metadata": {},
   "outputs": [
    {
     "data": {
      "text/plain": [
       "rootpath (generic function with 1 method)"
      ]
     },
     "execution_count": 17,
     "metadata": {},
     "output_type": "execute_result"
    }
   ],
   "source": [
    "function rootpath(node)\n",
    "    path = [node]\n",
    "    while node != \"COM\"\n",
    "        node = input[node]\n",
    "        push!(path, node)\n",
    "    end\n",
    "    reverse!(path)\n",
    "end"
   ]
  },
  {
   "cell_type": "code",
   "execution_count": 14,
   "metadata": {},
   "outputs": [
    {
     "data": {
      "text/plain": [
       "first_not_equal_idx (generic function with 1 method)"
      ]
     },
     "execution_count": 14,
     "metadata": {},
     "output_type": "execute_result"
    }
   ],
   "source": [
    "function first_not_equal_idx(a1, a2)\n",
    "    for i = 1:min(length(a1), length(a2))\n",
    "        if a1[i] != a2[i]\n",
    "            return i\n",
    "        end\n",
    "    end\n",
    "end"
   ]
  },
  {
   "cell_type": "code",
   "execution_count": 37,
   "metadata": {},
   "outputs": [
    {
     "data": {
      "text/plain": [
       "distance (generic function with 1 method)"
      ]
     },
     "execution_count": 37,
     "metadata": {},
     "output_type": "execute_result"
    }
   ],
   "source": [
    "function distance(n1, n2)\n",
    "    path1 = rootpath(n1)\n",
    "    path2 = rootpath(n2)\n",
    "    i = first_not_equal_idx(path1, path2)\n",
    "    1 + length(i:length(path1)) + length(i+1:length(path2))\n",
    "end"
   ]
  },
  {
   "cell_type": "code",
   "execution_count": 38,
   "metadata": {},
   "outputs": [
    {
     "data": {
      "text/plain": [
       "274"
      ]
     },
     "execution_count": 38,
     "metadata": {},
     "output_type": "execute_result"
    }
   ],
   "source": [
    "distance(input[\"YOU\"], input[\"SAN\"])"
   ]
  },
  {
   "cell_type": "markdown",
   "metadata": {},
   "source": [
    "# Day 7"
   ]
  },
  {
   "cell_type": "code",
   "execution_count": 29,
   "metadata": {},
   "outputs": [
    {
     "data": {
      "text/plain": [
       "511-element Array{Int64,1}:\n",
       "    3\n",
       "    8\n",
       " 1001\n",
       "    8\n",
       "   10\n",
       "    8\n",
       "  105\n",
       "    1\n",
       "    0\n",
       "    0\n",
       "   21\n",
       "   38\n",
       "   47\n",
       "    ⋮\n",
       "    9\n",
       "    4\n",
       "    9\n",
       "    3\n",
       "    9\n",
       "  102\n",
       "    2\n",
       "    9\n",
       "    9\n",
       "    4\n",
       "    9\n",
       "   99"
      ]
     },
     "execution_count": 29,
     "metadata": {},
     "output_type": "execute_result"
    }
   ],
   "source": [
    "using Combinatorics\n",
    "include(\"Intcode.jl\")\n",
    "input = parse.(Int,split(readline(\"input7.txt\"), \",\"))\n",
    "#input = parse.(Int,split(\"3,26,1001,26,-4,26,3,27,1002,27,2,27,1,27,26,27,4,27,1001,28,-1,28,1005,28,6,99,0,0,5\", \",\"))"
   ]
  },
  {
   "cell_type": "code",
   "execution_count": 115,
   "metadata": {},
   "outputs": [
    {
     "data": {
      "text/plain": [
       "tryPerm (generic function with 1 method)"
      ]
     },
     "execution_count": 115,
     "metadata": {},
     "output_type": "execute_result"
    }
   ],
   "source": [
    "function tryPerm(perm)\n",
    "    val = 0\n",
    "    for i in perm\n",
    "        cpu = Intcode(input)\n",
    "        enqueue!(cpu.input, i)\n",
    "        enqueue!(cpu.input, val)\n",
    "        while !isdone(cpu)\n",
    "            next!(cpu)\n",
    "        end\n",
    "        val = dequeue!(cpu.output)\n",
    "    end\n",
    "    val\n",
    "end"
   ]
  },
  {
   "cell_type": "code",
   "execution_count": 116,
   "metadata": {},
   "outputs": [
    {
     "data": {
      "text/plain": [
       "366376"
      ]
     },
     "execution_count": 116,
     "metadata": {},
     "output_type": "execute_result"
    }
   ],
   "source": [
    "maximum(tryPerm(perm) for perm in permutations(0:4))"
   ]
  },
  {
   "cell_type": "code",
   "execution_count": 31,
   "metadata": {},
   "outputs": [
    {
     "data": {
      "text/plain": [
       "tryCyclicPerm (generic function with 1 method)"
      ]
     },
     "execution_count": 31,
     "metadata": {},
     "output_type": "execute_result"
    }
   ],
   "source": [
    "function makeCyclicPerm(perm)\n",
    "    initialQueue = Queue{Int}()\n",
    "    \n",
    "    amplifiers = Intcode[]\n",
    "    for (i,p) in enumerate(perm)\n",
    "        if i == 1\n",
    "            push!(amplifiers, Intcode(input, initialQueue))\n",
    "        elseif i == length(perm)\n",
    "            push!(amplifiers, Intcode(input, amplifiers[i-1].output, initialQueue))\n",
    "        else\n",
    "            push!(amplifiers, Intcode(input, amplifiers[i-1].output))\n",
    "        end\n",
    "        enqueue!(last(amplifiers).input, p)\n",
    "    end\n",
    "    enqueue!(initialQueue, 0)\n",
    "    \n",
    "    amplifiers\n",
    "end\n",
    "\n",
    "function iter!(amps)\n",
    "    for (i,amp) in enumerate(amps)\n",
    "        while !isdone(amp)\n",
    "            if needsinput(amp) && isempty(amp.input)\n",
    "                break\n",
    "            end\n",
    "            next!(amp)\n",
    "            flag = false\n",
    "        end\n",
    "    end\n",
    "    \n",
    "    return amps\n",
    "end\n",
    "\n",
    "function tryCyclicPerm(perm)\n",
    "    amps = makeCyclicPerm(perm)\n",
    "    \n",
    "    while any(!isdone, amps)\n",
    "        iter!(amps)\n",
    "    end\n",
    "    collect(amps[end].output)[end]\n",
    "end"
   ]
  },
  {
   "cell_type": "code",
   "execution_count": 25,
   "metadata": {},
   "outputs": [
    {
     "data": {
      "text/plain": [
       "5-element Array{Intcode,1}:\n",
       " Intcode([3, 8, 1001, 8, 10, 8, 105, 1, 0, 0  …  9, 3, 9, 102, 2, 9, 9, 4, 9, 99], 1, Queue{Int64}(Deque [[5, 0]]), Queue{Int64}(Deque [[6]]))\n",
       " Intcode([3, 8, 1001, 8, 10, 8, 105, 1, 0, 0  …  9, 3, 9, 102, 2, 9, 9, 4, 9, 99], 1, Queue{Int64}(Deque [[6]]), Queue{Int64}(Deque [[7]]))   \n",
       " Intcode([3, 8, 1001, 8, 10, 8, 105, 1, 0, 0  …  9, 3, 9, 102, 2, 9, 9, 4, 9, 99], 1, Queue{Int64}(Deque [[7]]), Queue{Int64}(Deque [[8]]))   \n",
       " Intcode([3, 8, 1001, 8, 10, 8, 105, 1, 0, 0  …  9, 3, 9, 102, 2, 9, 9, 4, 9, 99], 1, Queue{Int64}(Deque [[8]]), Queue{Int64}(Deque [[9]]))   \n",
       " Intcode([3, 8, 1001, 8, 10, 8, 105, 1, 0, 0  …  9, 3, 9, 102, 2, 9, 9, 4, 9, 99], 1, Queue{Int64}(Deque [[9]]), Queue{Int64}(Deque [[5, 0]]))"
      ]
     },
     "execution_count": 25,
     "metadata": {},
     "output_type": "execute_result"
    }
   ],
   "source": [
    "amps = makeCyclicPerm(5:9)"
   ]
  },
  {
   "cell_type": "code",
   "execution_count": 32,
   "metadata": {},
   "outputs": [
    {
     "data": {
      "text/plain": [
       "21596786 => [9, 5, 8, 6, 7]"
      ]
     },
     "execution_count": 32,
     "metadata": {},
     "output_type": "execute_result"
    }
   ],
   "source": [
    "maximum(tryCyclicPerm(perm) => perm for perm in permutations(5:9))"
   ]
  },
  {
   "cell_type": "markdown",
   "metadata": {},
   "source": [
    "# Day 8"
   ]
  },
  {
   "cell_type": "code",
   "execution_count": 61,
   "metadata": {},
   "outputs": [
    {
     "data": {
      "text/plain": [
       "6×25×100 Array{Int64,3}:\n",
       "[:, :, 1] =\n",
       " 2  1  1  2  0  2  1  2  1  2  2  2  2  2  2  2  2  2  2  2  1  2  2  2  2\n",
       " 1  2  2  2  2  2  0  2  0  2  2  2  2  2  2  2  2  2  2  2  1  2  2  2  2\n",
       " 1  2  2  0  2  2  2  2  2  2  2  2  2  2  2  2  2  2  2  2  2  2  2  2  2\n",
       " 2  0  2  2  2  2  2  2  2  2  2  2  2  2  2  1  2  2  1  2  1  0  2  2  2\n",
       " 2  2  2  1  2  2  2  2  2  2  2  2  2  2  2  1  2  2  1  2  2  2  2  2  2\n",
       " 2  2  1  0  2  2  2  2  0  2  2  1  2  2  2  2  2  2  2  0  1  2  2  2  2\n",
       "\n",
       "[:, :, 2] =\n",
       " 2  0  0  2  2  2  0  2  1  2  2  2  2  2  2  2  2  2  2  2  0  2  2  2  2\n",
       " 2  2  2  2  2  2  0  2  2  2  2  2  2  2  2  2  2  2  2  2  0  2  2  2  2\n",
       " 0  2  2  1  2  2  2  2  2  2  2  2  2  2  2  2  2  2  2  2  2  2  2  2  2\n",
       " 2  2  2  2  2  2  2  2  2  2  2  2  2  2  2  0  2  2  0  2  2  0  2  2  2\n",
       " 2  2  2  2  2  2  2  2  2  2  2  2  2  2  2  2  2  2  1  2  2  2  2  2  2\n",
       " 2  2  2  1  2  2  2  2  2  2  2  0  2  2  2  0  2  2  2  2  0  2  2  2  2\n",
       "\n",
       "[:, :, 3] =\n",
       " 2  2  0  2  0  2  0  2  1  2  2  2  2  2  2  2  2  2  2  2  1  2  2  2  2\n",
       " 0  2  2  2  2  2  1  2  2  2  2  2  2  2  2  2  2  2  2  2  1  2  2  2  2\n",
       " 2  2  2  0  2  2  2  2  2  2  2  2  2  2  2  2  2  2  2  2  2  2  2  2  2\n",
       " 2  2  2  2  2  2  2  2  2  2  2  2  2  2  2  1  2  2  2  2  0  0  2  2  2\n",
       " 2  2  2  1  2  2  2  2  2  2  2  2  2  2  2  0  2  2  2  2  2  2  2  2  2\n",
       " 2  2  2  0  2  2  2  2  0  2  2  1  2  2  2  1  2  2  2  1  0  2  2  2  2\n",
       "\n",
       "...\n",
       "\n",
       "[:, :, 98] =\n",
       " 2  0  2  1  1  2  0  2  0  0  2  0  2  2  2  2  1  2  1  0  0  2  1  1  1\n",
       " 1  2  1  2  2  1  2  0  2  0  0  0  0  2  0  2  0  2  0  1  0  2  0  0  2\n",
       " 1  2  0  2  0  2  1  2  0  0  2  0  0  0  2  2  2  2  2  0  1  0  1  2  0\n",
       " 1  1  1  0  1  1  0  0  0  0  1  2  1  2  0  1  2  1  1  0  1  2  1  2  0\n",
       " 0  2  2  1  2  2  2  2  1  2  2  1  2  1  2  0  0  0  2  2  0  2  2  2  1\n",
       " 2  1  2  2  2  0  2  2  1  1  0  0  1  2  2  0  2  0  1  1  2  2  2  0  1\n",
       "\n",
       "[:, :, 99] =\n",
       " 2  0  1  0  1  2  0  2  2  0  1  1  1  1  1  2  0  0  0  0  1  1  1  2  0\n",
       " 2  2  0  0  2  1  1  2  0  0  2  2  0  0  2  2  0  2  2  1  1  2  1  2  0\n",
       " 2  1  2  0  0  0  2  2  1  2  0  1  0  1  2  2  2  2  2  0  1  0  2  2  2\n",
       " 1  2  1  2  1  1  0  1  0  1  0  0  2  2  0  1  1  1  1  1  2  1  2  2  1\n",
       " 0  1  2  2  2  2  2  2  0  2  1  0  2  1  2  1  1  2  1  2  1  2  2  1  2\n",
       " 1  1  2  0  2  1  2  2  0  2  0  0  0  2  0  0  2  1  0  1  1  2  2  2  0\n",
       "\n",
       "[:, :, 100] =\n",
       " 0  0  2  2  1  1  2  2  1  0  0  2  0  1  0  1  0  2  1  2  1  1  1  0  2\n",
       " 0  1  0  0  0  0  0  0  0  1  1  2  0  0  1  1  2  1  0  0  0  0  2  2  0\n",
       " 1  2  2  0  1  1  2  1  0  2  2  0  1  1  0  1  0  0  1  2  0  0  0  0  2\n",
       " 2  2  2  2  0  2  2  0  2  2  1  2  0  0  2  2  0  1  2  2  1  1  1  0  2\n",
       " 0  2  0  0  0  1  0  2  0  0  1  2  0  2  0  0  0  2  0  0  1  0  0  1  0\n",
       " 2  1  2  1  0  0  0  2  2  0  1  0  0  1  0  1  1  1  1  2  2  2  1  1  0"
      ]
     },
     "execution_count": 61,
     "metadata": {},
     "output_type": "execute_result"
    }
   ],
   "source": [
    "A = parse.(Int,collect(readline(\"input8.txt\")))\n",
    "A = permutedims(reshape(A, 25, 6, :), (2,1,3))"
   ]
  },
  {
   "cell_type": "code",
   "execution_count": 66,
   "metadata": {},
   "outputs": [
    {
     "data": {
      "text/plain": [
       "(6, 7)"
      ]
     },
     "execution_count": 66,
     "metadata": {},
     "output_type": "execute_result"
    }
   ],
   "source": [
    "_, i = [count(==(0), A[:,:,i]) for i in 1:size(A)[3]] |> findmin"
   ]
  },
  {
   "cell_type": "code",
   "execution_count": 67,
   "metadata": {},
   "outputs": [
    {
     "data": {
      "text/plain": [
       "1935"
      ]
     },
     "execution_count": 67,
     "metadata": {},
     "output_type": "execute_result"
    }
   ],
   "source": [
    "count(==(1), A[:,:,i]) * count(==(2), A[:,:,i])"
   ]
  },
  {
   "cell_type": "code",
   "execution_count": 72,
   "metadata": {},
   "outputs": [
    {
     "data": {
      "text/plain": [
       "merge! (generic function with 1 method)"
      ]
     },
     "execution_count": 72,
     "metadata": {},
     "output_type": "execute_result"
    }
   ],
   "source": [
    "function merge!(img1, img2)\n",
    "    @assert size(img1) == size(img2)\n",
    "    for (i, x) = enumerate(img1)\n",
    "        if x == 2\n",
    "            img1[i] = img2[i]\n",
    "        end\n",
    "    end\n",
    "    img1\n",
    "end"
   ]
  },
  {
   "cell_type": "code",
   "execution_count": 73,
   "metadata": {},
   "outputs": [
    {
     "data": {
      "text/plain": [
       "6×25 Array{Int64,2}:\n",
       " 0  1  1  0  0  1  1  1  1  0  1  0  0  0  0  1  0  0  1  0  1  0  0  0  0\n",
       " 1  0  0  1  0  1  0  0  0  0  1  0  0  0  0  1  0  0  1  0  1  0  0  0  0\n",
       " 1  0  0  0  0  1  1  1  0  0  1  0  0  0  0  1  0  0  1  0  1  0  0  0  0\n",
       " 1  0  0  0  0  1  0  0  0  0  1  0  0  0  0  1  0  0  1  0  1  0  0  0  0\n",
       " 1  0  0  1  0  1  0  0  0  0  1  0  0  0  0  1  0  0  1  0  1  0  0  0  0\n",
       " 0  1  1  0  0  1  0  0  0  0  1  1  1  1  0  0  1  1  0  0  1  1  1  1  0"
      ]
     },
     "execution_count": 73,
     "metadata": {},
     "output_type": "execute_result"
    }
   ],
   "source": [
    "let img = A[:,:,1]\n",
    "    for i = 2:size(A)[3]\n",
    "        merge!(img, A[:,:,i])\n",
    "    end\n",
    "    img\n",
    "end"
   ]
  },
  {
   "cell_type": "code",
   "execution_count": 74,
   "metadata": {},
   "outputs": [
    {
     "data": {
      "image/png": "[encoded data removed]",
      "text/plain": [
       "6×25 Array{Gray{N0f8},2} with eltype Gray{Normed{UInt8,8}}:\n",
       " Gray{N0f8}(0.0)  Gray{N0f8}(1.0)  …  Gray{N0f8}(0.0)  Gray{N0f8}(0.0)\n",
       " Gray{N0f8}(1.0)  Gray{N0f8}(0.0)     Gray{N0f8}(0.0)  Gray{N0f8}(0.0)\n",
       " Gray{N0f8}(1.0)  Gray{N0f8}(0.0)     Gray{N0f8}(0.0)  Gray{N0f8}(0.0)\n",
       " Gray{N0f8}(1.0)  Gray{N0f8}(0.0)     Gray{N0f8}(0.0)  Gray{N0f8}(0.0)\n",
       " Gray{N0f8}(1.0)  Gray{N0f8}(0.0)     Gray{N0f8}(0.0)  Gray{N0f8}(0.0)\n",
       " Gray{N0f8}(0.0)  Gray{N0f8}(1.0)  …  Gray{N0f8}(1.0)  Gray{N0f8}(0.0)"
      ]
     },
     "execution_count": 74,
     "metadata": {},
     "output_type": "execute_result"
    }
   ],
   "source": [
    "using Images\n",
    "Gray.(ans)"
   ]
  },
  {
   "cell_type": "markdown",
   "metadata": {},
   "source": [
    "# Day 9"
   ]
  },
  {
   "cell_type": "code",
   "execution_count": 31,
   "metadata": {},
   "outputs": [
    {
     "data": {
      "text/plain": [
       "973-element Array{Int64,1}:\n",
       "     1102\n",
       " 34463338\n",
       " 34463338\n",
       "       63\n",
       "     1007\n",
       "       63\n",
       " 34463338\n",
       "       63\n",
       "     1005\n",
       "       63\n",
       "       53\n",
       "     1102\n",
       "        3\n",
       "        ⋮\n",
       "     1105\n",
       "        1\n",
       "      968\n",
       "    21201\n",
       "       -2\n",
       "        0\n",
       "       -2\n",
       "      109\n",
       "       -3\n",
       "     2105\n",
       "        1\n",
       "        0"
      ]
     },
     "execution_count": 31,
     "metadata": {},
     "output_type": "execute_result"
    }
   ],
   "source": [
    "include(\"Intcode.jl\")\n",
    "input = parse.(Int,split(readline(\"input9.txt\"), \",\"))"
   ]
  },
  {
   "cell_type": "code",
   "execution_count": 35,
   "metadata": {},
   "outputs": [
    {
     "name": "stdout",
     "output_type": "stream",
     "text": [
      "collect(cpu.output) = [2351176124]\n",
      "  0.000606 seconds (9.28 k allocations: 228.359 KiB)\n"
     ]
    },
    {
     "data": {
      "text/plain": [
       "1-element Array{Int64,1}:\n",
       " 2351176124"
      ]
     },
     "execution_count": 35,
     "metadata": {},
     "output_type": "execute_result"
    }
   ],
   "source": [
    "@time let cpu = Intcode(input)\n",
    "    enqueue!(cpu.input, 1)\n",
    "    while !isdone(cpu)\n",
    "        next!(cpu)\n",
    "    end\n",
    "    @show collect(cpu.output)\n",
    "end"
   ]
  },
  {
   "cell_type": "code",
   "execution_count": 36,
   "metadata": {},
   "outputs": [
    {
     "name": "stdout",
     "output_type": "stream",
     "text": [
      "collect(cpu.output) = [73110]\n",
      "  0.953379 seconds (14.42 M allocations: 263.429 MiB, 28.06% gc time)\n"
     ]
    },
    {
     "data": {
      "text/plain": [
       "1-element Array{Int64,1}:\n",
       " 73110"
      ]
     },
     "execution_count": 36,
     "metadata": {},
     "output_type": "execute_result"
    }
   ],
   "source": [
    "@time let cpu = Intcode(input)\n",
    "    enqueue!(cpu.input, 2)\n",
    "    while !isdone(cpu)\n",
    "        next!(cpu)\n",
    "    end\n",
    "    @show collect(cpu.output)\n",
    "end"
   ]
  },
  {
   "cell_type": "markdown",
   "metadata": {},
   "source": [
    "# Day 10"
   ]
  },
  {
   "cell_type": "code",
   "execution_count": 220,
   "metadata": {},
   "outputs": [
    {
     "data": {
      "text/plain": [
       "26×26 Array{Bool,2}:\n",
       "  true   true  false   true  false  …   true   true   true   true   true\n",
       "  true  false  false   true   true     false   true   true   true  false\n",
       " false  false   true  false   true     false  false  false   true   true\n",
       " false   true   true  false  false      true  false  false  false  false\n",
       "  true  false   true   true   true      true  false  false   true  false\n",
       " false  false   true  false  false  …  false   true  false   true   true\n",
       "  true  false  false  false   true     false   true  false   true  false\n",
       " false   true  false  false   true      true  false  false   true   true\n",
       " false  false  false  false  false     false   true   true   true   true\n",
       " false   true   true  false   true     false   true   true   true   true\n",
       " false  false   true  false   true  …   true  false  false  false  false\n",
       " false  false  false  false   true      true  false   true   true   true\n",
       "  true   true   true  false   true      true   true   true  false  false\n",
       "  true   true   true  false   true     false  false   true   true  false\n",
       "  true   true   true   true   true      true  false   true   true   true\n",
       " false   true   true   true   true  …   true  false  false  false   true\n",
       "  true   true  false   true  false      true  false  false  false  false\n",
       " false  false  false   true  false     false   true   true   true   true\n",
       "  true  false  false  false  false      true   true   true  false   true\n",
       "  true  false   true   true  false      true   true  false   true   true\n",
       "  true  false   true   true   true  …  false  false   true   true   true\n",
       "  true  false   true   true   true      true   true   true   true   true\n",
       "  true  false  false   true  false      true  false  false   true   true\n",
       " false   true   true  false  false      true  false  false  false  false\n",
       " false   true   true   true  false      true  false   true  false   true\n",
       " false   true   true  false  false  …   true   true   true  false   true"
      ]
     },
     "execution_count": 220,
     "metadata": {},
     "output_type": "execute_result"
    }
   ],
   "source": [
    "input = vcat([[c == '#' for c in line] |> permutedims for line in eachline(\"input10.txt\")]...)"
   ]
  },
  {
   "cell_type": "code",
   "execution_count": 221,
   "metadata": {},
   "outputs": [
    {
     "data": {
      "text/plain": [
       "count_visibile (generic function with 1 method)"
      ]
     },
     "execution_count": 221,
     "metadata": {},
     "output_type": "execute_result"
    }
   ],
   "source": [
    "function count_visibile(x, y)\n",
    "    S = Set{Pair{Int,Int}}()\n",
    "    for i = 1:size(input)[1], j = 1:size(input)[2]\n",
    "        if input[i,j] && (i,j) != (y,x)\n",
    "            dx = j - x\n",
    "            dy = i - y\n",
    "            dx,dy = dx ÷ gcd(dx,dy), dy ÷ gcd(dx,dy)\n",
    "            push!(S, dx => dy)\n",
    "        end\n",
    "    end\n",
    "    return length(S)\n",
    "end"
   ]
  },
  {
   "cell_type": "code",
   "execution_count": 222,
   "metadata": {},
   "outputs": [
    {
     "data": {
      "text/plain": [
       "26×26 Array{Int64,2}:\n",
       " 266  261    0  267    0    0  264    0  …    0  261  263  264  265  261  253\n",
       " 270    0    0  259  278  272  264  269       0  283    0  281  264  267    0\n",
       "   0    0  273    0  280  278  275  273       0  275    0    0    0  268  266\n",
       "   0  266  277    0    0  265    0  263     267    0  266    0    0    0    0\n",
       " 260    0  271  272  269  264    0    0     267    0  258    0    0  265    0\n",
       "   0    0  283    0    0  270    0  268  …    0    0    0  274    0  270  257\n",
       " 271    0    0    0  270  268  276  272     274    0    0  266    0  271    0\n",
       "   0  263    0    0  278    0  267  268     268  271  261    0    0  271  256\n",
       "   0    0    0    0    0    0  274  275       0    0    0  266  275  274  262\n",
       "   0  261  278    0  266    0    0    0       0  270    0  263  264  264  252\n",
       "   0    0  271    0  273    0  271    0  …  269    0  258    0    0    0    0\n",
       "   0    0    0    0  280  271  279  266       0  277  261    0  267  278  258\n",
       " 268  266  270    0  262  266  276  267     262  270  267  264  267    0    0\n",
       " 264  271  277    0  280    0  264    0     273  280    0    0  271  268    0\n",
       " 270  269  273  265  264    0  276    0       0  268  271    0  274  271  265\n",
       "   0  257  276  261  268  263    0  262  …  260  263  252    0    0    0  257\n",
       " 260  265    0  264    0    0    0    0       0  275  264    0    0    0    0\n",
       "   0    0    0  267    0  263    0  269     263    0    0  268  270  268  258\n",
       " 270    0    0    0    0  269  267  264       0  272  264  264  270    0  262\n",
       " 264    0  279  258    0  261    0  267     269  284  257  271    0  268  261\n",
       " 264    0  271  268  267    0  260  272  …  273  273    0    0  274  271  263\n",
       " 263    0  270  262  260  269    0    0       0    0  257  266  265  268  248\n",
       " 250    0    0  267    0    0  267  271       0    0  269    0    0  261  266\n",
       "   0  259  271    0    0  268    0  273       0    0  264    0    0    0    0\n",
       "   0  258  267  269    0  265  263    0     268    0  274    0  273    0  264\n",
       "   0  258  273    0    0  256  253  262  …  273  273  260  278  267    0  258"
      ]
     },
     "execution_count": 222,
     "metadata": {},
     "output_type": "execute_result"
    }
   ],
   "source": [
    "A = [input[i,j] ? count_visibile(j, i) : 0 for i = 1:size(input)[1], j = 1:size(input)[2]]"
   ]
  },
  {
   "cell_type": "code",
   "execution_count": 223,
   "metadata": {},
   "outputs": [
    {
     "data": {
      "text/plain": [
       "(284, CartesianIndex(20, 21))"
      ]
     },
     "execution_count": 223,
     "metadata": {},
     "output_type": "execute_result"
    }
   ],
   "source": [
    "findmax(A)"
   ]
  },
  {
   "cell_type": "code",
   "execution_count": null,
   "metadata": {},
   "outputs": [],
   "source": [
    "f(tpl) = atan(-tpl[2],-tpl[1])"
   ]
  },
  {
   "cell_type": "code",
   "execution_count": 224,
   "metadata": {},
   "outputs": [
    {
     "data": {
      "text/plain": [
       "OrderedDict{Tuple{Int64,Int64},Array{Tuple{Int64,Int64},1}} with 284 entries:\n",
       "  (1, 0)  => Tuple{Int64,Int64}[(1, 21), (2, 21), (3, 21), (8, 21), (10, 21), (…\n",
       "  (19, 1) => Tuple{Int64,Int64}[(1, 22)]\n",
       "  (16, 1) => Tuple{Int64,Int64}[(4, 22)]\n",
       "  (15, 1) => Tuple{Int64,Int64}[(5, 22)]\n",
       "  (12, 1) => Tuple{Int64,Int64}[(8, 22)]\n",
       "  (19, 2) => Tuple{Int64,Int64}[(1, 23)]\n",
       "  (9, 1)  => Tuple{Int64,Int64}[(2, 23), (11, 22)]\n",
       "  (8, 1)  => Tuple{Int64,Int64}[(12, 22)]\n",
       "  (7, 1)  => Tuple{Int64,Int64}[(6, 23), (13, 22)]\n",
       "  (13, 2) => Tuple{Int64,Int64}[(7, 23)]\n",
       "  (19, 3) => Tuple{Int64,Int64}[(1, 24)]\n",
       "  (6, 1)  => Tuple{Int64,Int64}[(2, 24)]\n",
       "  (11, 2) => Tuple{Int64,Int64}[(9, 23)]\n",
       "  (5, 1)  => Tuple{Int64,Int64}[(10, 23), (15, 22)]\n",
       "  (19, 4) => Tuple{Int64,Int64}[(1, 25)]\n",
       "  (9, 2)  => Tuple{Int64,Int64}[(2, 25)]\n",
       "  (17, 4) => Tuple{Int64,Int64}[(3, 25)]\n",
       "  (4, 1)  => Tuple{Int64,Int64}[(16, 22)]\n",
       "  (19, 5) => Tuple{Int64,Int64}[(1, 26)]\n",
       "  (15, 4) => Tuple{Int64,Int64}[(5, 25)]\n",
       "  (11, 3) => Tuple{Int64,Int64}[(9, 24)]\n",
       "  (7, 2)  => Tuple{Int64,Int64}[(6, 25), (13, 23)]\n",
       "  (17, 5) => Tuple{Int64,Int64}[(3, 26)]\n",
       "  (10, 3) => Tuple{Int64,Int64}[(10, 24)]\n",
       "  (13, 4) => Tuple{Int64,Int64}[(7, 25)]\n",
       "  ⋮       => ⋮"
      ]
     },
     "execution_count": 224,
     "metadata": {},
     "output_type": "execute_result"
    }
   ],
   "source": [
    "points = let angles = Dict{Tuple{Int,Int}, Vector{Tuple{Int,Int}}}()\n",
    "    y,x = 20,21\n",
    "    for i = 1:size(input)[1], j = 1:size(input)[2]\n",
    "        if input[i,j] && (i,j) != (y,x)\n",
    "            dx = j - x\n",
    "            dy = y - i\n",
    "            dx,dy = dx ÷ gcd(dx,dy), dy ÷ gcd(dx,dy)\n",
    "            \n",
    "            if !haskey(angles, (dy,dx))\n",
    "                angles[(dy,dx)] = [(i,j)]\n",
    "            else\n",
    "                push!(angles[(dy,dx)], (i,j))\n",
    "            end\n",
    "        end\n",
    "    end\n",
    "    \n",
    "    for (k,v) in angles\n",
    "        sort!(v, by=tpl -> magnitude(tpl .- (y,x)), rev=true)\n",
    "    end\n",
    "    \n",
    "    sort(angles, by = tpl -> f(normalize(tpl)))\n",
    "end"
   ]
  },
  {
   "cell_type": "code",
   "execution_count": 225,
   "metadata": {},
   "outputs": [
    {
     "data": {
      "text/plain": [
       "385-element Array{Tuple{Int64,Int64},1}:\n",
       " (19, 21)\n",
       " (1, 22) \n",
       " (4, 22) \n",
       " (5, 22) \n",
       " (8, 22) \n",
       " (1, 23) \n",
       " (11, 22)\n",
       " (12, 22)\n",
       " (13, 22)\n",
       " (7, 23) \n",
       " (1, 24) \n",
       " (2, 24) \n",
       " (9, 23) \n",
       " ⋮       \n",
       " (2, 12) \n",
       " (8, 21) \n",
       " (20, 9) \n",
       " (1, 2)  \n",
       " (3, 21) \n",
       " (20, 8) \n",
       " (2, 21) \n",
       " (20, 6) \n",
       " (1, 21) \n",
       " (20, 4) \n",
       " (20, 3) \n",
       " (20, 1) "
      ]
     },
     "execution_count": 225,
     "metadata": {},
     "output_type": "execute_result"
    }
   ],
   "source": [
    "order = let arr = Tuple{Int,Int}[]\n",
    "    while any(!isempty, values(points))\n",
    "        for (k,v) in points\n",
    "            if !isempty(v)\n",
    "                push!(arr, pop!(v))\n",
    "            end\n",
    "        end\n",
    "    end\n",
    "    arr\n",
    "end"
   ]
  },
  {
   "cell_type": "code",
   "execution_count": 227,
   "metadata": {},
   "outputs": [
    {
     "data": {
      "text/plain": [
       "404"
      ]
     },
     "execution_count": 227,
     "metadata": {},
     "output_type": "execute_result"
    }
   ],
   "source": [
    "let (y,x) = order[200]\n",
    "    100 * (y - 1) + x - 1\n",
    "end"
   ]
  },
  {
   "cell_type": "markdown",
   "metadata": {},
   "source": [
    "# Day 11"
   ]
  },
  {
   "cell_type": "code",
   "execution_count": 293,
   "metadata": {},
   "outputs": [
    {
     "data": {
      "text/plain": [
       "637-element Array{Int64,1}:\n",
       "     3\n",
       "     8\n",
       "  1005\n",
       "     8\n",
       "   315\n",
       "  1106\n",
       "     0\n",
       "    11\n",
       "     0\n",
       "     0\n",
       "     0\n",
       "   104\n",
       "     1\n",
       "     ⋮\n",
       "    -2\n",
       "    -1\n",
       "    -2\n",
       " 22201\n",
       "    -4\n",
       "    -2\n",
       "    -4\n",
       "   109\n",
       "    -5\n",
       "  2106\n",
       "     0\n",
       "     0"
      ]
     },
     "execution_count": 293,
     "metadata": {},
     "output_type": "execute_result"
    }
   ],
   "source": [
    "using Images\n",
    "include(\"Intcode.jl\")\n",
    "input = parse.(Int,split(readline(\"input11.txt\"), \",\"))"
   ]
  },
  {
   "cell_type": "code",
   "execution_count": 291,
   "metadata": {},
   "outputs": [
    {
     "name": "stdout",
     "output_type": "stream",
     "text": [
      "length(paint) = 249\n"
     ]
    },
    {
     "data": {
      "image/png": "[encoded data removed]",
      "text/plain": [
       "6×43 Array{Gray{Bool},2} with eltype Gray{Bool}:\n",
       " Gray{Bool}(false)  Gray{Bool}(true)  Gray{Bool}(true)   …  Gray{Bool}(false)\n",
       " Gray{Bool}(false)  Gray{Bool}(true)  Gray{Bool}(false)     Gray{Bool}(false)\n",
       " Gray{Bool}(false)  Gray{Bool}(true)  Gray{Bool}(false)     Gray{Bool}(false)\n",
       " Gray{Bool}(false)  Gray{Bool}(true)  Gray{Bool}(true)      Gray{Bool}(false)\n",
       " Gray{Bool}(false)  Gray{Bool}(true)  Gray{Bool}(false)     Gray{Bool}(false)\n",
       " Gray{Bool}(false)  Gray{Bool}(true)  Gray{Bool}(false)  …  Gray{Bool}(false)"
      ]
     },
     "execution_count": 291,
     "metadata": {},
     "output_type": "execute_result"
    }
   ],
   "source": [
    "let cpu = Intcode(input)\n",
    "    i,j = 0,0\n",
    "    dir = 0\n",
    "    paint = Dict( (i => j) => true ) # false for part 1\n",
    "    \n",
    "    while !isdone(cpu)\n",
    "        enqueue!(cpu.input, get(paint, i => j, false) ? 1 : 0)\n",
    "        while length(cpu.output) < 2\n",
    "            if isdone(cpu)\n",
    "                break\n",
    "            end\n",
    "            next!(cpu)\n",
    "        end\n",
    "        \n",
    "        if isdone(cpu) && isempty(cpu.output)\n",
    "            break\n",
    "        end\n",
    "        \n",
    "        \n",
    "        c = dequeue!(cpu.output) == 1\n",
    "        Δdir = dequeue!(cpu.output) * 2 - 1\n",
    "        \n",
    "        paint[i => j] = c\n",
    "        \n",
    "        dir = mod(dir + Δdir, 4)\n",
    "        if dir == 0\n",
    "            i -= 1\n",
    "        elseif dir == 1\n",
    "            j += 1\n",
    "        elseif dir == 2\n",
    "            i += 1\n",
    "        elseif dir == 3\n",
    "            j -= 1\n",
    "        end\n",
    "    end\n",
    "    \n",
    "    @show length(paint) # part 1\n",
    "    \n",
    "    minI,maxI = extrema(first.(keys(paint)))\n",
    "    minJ,maxJ = extrema(last.(keys(paint)))\n",
    "    \n",
    "    img = [Gray(get(paint, i => j, false)) for i in minI:maxI, j in minJ:maxJ] # part 2\n",
    "end"
   ]
  },
  {
   "cell_type": "markdown",
   "metadata": {},
   "source": [
    "# Day 12"
   ]
  },
  {
   "cell_type": "code",
   "execution_count": 1,
   "metadata": {},
   "outputs": [
    {
     "data": {
      "text/plain": [
       "parseMoon (generic function with 1 method)"
      ]
     },
     "execution_count": 1,
     "metadata": {},
     "output_type": "execute_result"
    }
   ],
   "source": [
    "function parseMoon(str)\n",
    "    m = match(r\"<x=(-?\\d+), y=(-?\\d+), z=(-?\\d+)>\", str)\n",
    "    parse.(Int, m.captures)\n",
    "end"
   ]
  },
  {
   "cell_type": "code",
   "execution_count": 130,
   "metadata": {},
   "outputs": [
    {
     "data": {
      "text/plain": [
       "4-element Array{Array{Int64,1},1}:\n",
       " [3, 15, 8] \n",
       " [5, -1, -2]\n",
       " [-10, 8, 2]\n",
       " [8, 4, -5] "
      ]
     },
     "execution_count": 130,
     "metadata": {},
     "output_type": "execute_result"
    }
   ],
   "source": [
    "input = parseMoon.(eachline(\"input12.txt\"))"
   ]
  },
  {
   "cell_type": "code",
   "execution_count": 69,
   "metadata": {},
   "outputs": [
    {
     "data": {
      "text/plain": [
       "gravity (generic function with 1 method)"
      ]
     },
     "execution_count": 69,
     "metadata": {},
     "output_type": "execute_result"
    }
   ],
   "source": [
    "mutable struct Moon\n",
    "    pos::Vector{Int}\n",
    "    vel::Vector{Int}\n",
    "end\n",
    "\n",
    "Base.:(==)(moonA::Moon, moonB::Moon) = ==(moonA.pos, moonB.pos) && ==(moonA.vel, moonB.vel)\n",
    "Base.hash(moon::Moon) = Base.hash((moon.pos, moon.vel))\n",
    "Base.hash(moons::Vector{Moon}) = reduce(hash, hash.(moons))\n",
    "\n",
    "\n",
    "kinectic_energy(moon::Moon) = sum(abs(x) for x in moon.vel)\n",
    "potential_energy(moon::Moon) = sum(abs(x) for x in moon.pos)\n",
    "energy(moon::Moon) = potential_energy(moon) * kinectic_energy(moon)\n",
    "\n",
    "gravity(moonA::Moon, moonB::Moon) = [ cmp(xB,xA) for (xA,xB) in zip(moonA.pos, moonB.pos) ]"
   ]
  },
  {
   "cell_type": "code",
   "execution_count": 61,
   "metadata": {},
   "outputs": [
    {
     "data": {
      "text/plain": [
       "apply_gravity! (generic function with 1 method)"
      ]
     },
     "execution_count": 61,
     "metadata": {},
     "output_type": "execute_result"
    }
   ],
   "source": [
    "function apply_gravity!(moons)\n",
    "    for (i,moon) in enumerate(moons)\n",
    "        moon.vel += sum(gravity(moon, other) for (j,other) in enumerate(moons) if i != j)\n",
    "    end\n",
    "    moons\n",
    "end"
   ]
  },
  {
   "cell_type": "code",
   "execution_count": 5,
   "metadata": {},
   "outputs": [
    {
     "data": {
      "text/plain": [
       "apply_velocity! (generic function with 1 method)"
      ]
     },
     "execution_count": 5,
     "metadata": {},
     "output_type": "execute_result"
    }
   ],
   "source": [
    "function apply_velocity!(moons)\n",
    "    for moon in moons\n",
    "        moon.pos += moon.vel\n",
    "    end\n",
    "    moons\n",
    "end"
   ]
  },
  {
   "cell_type": "code",
   "execution_count": 84,
   "metadata": {},
   "outputs": [
    {
     "name": "stdout",
     "output_type": "stream",
     "text": [
      "E = 7179\n"
     ]
    },
    {
     "data": {
      "text/plain": [
       "7179"
      ]
     },
     "execution_count": 84,
     "metadata": {},
     "output_type": "execute_result"
    }
   ],
   "source": [
    "let moons = [Moon(pos, [0,0,0]) for pos in input]\n",
    "    for i = 1:1000\n",
    "        apply_gravity!(moons)\n",
    "        apply_velocity!(moons)\n",
    "    end\n",
    "    E = sum(energy(moon) for moon in moons)\n",
    "    @show E\n",
    "end"
   ]
  },
  {
   "cell_type": "code",
   "execution_count": 123,
   "metadata": {},
   "outputs": [
    {
     "data": {
      "text/plain": [
       "find_component_cycle (generic function with 2 methods)"
      ]
     },
     "execution_count": 123,
     "metadata": {},
     "output_type": "execute_result"
    }
   ],
   "source": [
    "function find_component_cycle(positions::Tuple{Int,Int,Int,Int})\n",
    "    velocities = (0,0,0,0)\n",
    "    history = Dict{Pair{Tuple{Int,Int,Int,Int},Tuple{Int,Int,Int,Int}}, Int}()\n",
    "    for i = 1:1000000\n",
    "        if haskey(history, positions=>velocities)\n",
    "            return history[positions => velocities]:i-1\n",
    "        end\n",
    "        history[positions => velocities] = i\n",
    "        \n",
    "        velocities = tuple([ vel + sum(cmp(other, moon) for other in positions) for (moon,vel) in zip(positions,velocities) ]...)\n",
    "        positions = positions .+ velocities\n",
    "    end\n",
    "    \n",
    "    throw(\"Period too long\")\n",
    "end"
   ]
  },
  {
   "cell_type": "code",
   "execution_count": 131,
   "metadata": {},
   "outputs": [
    {
     "name": "stdout",
     "output_type": "stream",
     "text": [
      "  1.999894 seconds (9.29 M allocations: 593.946 MiB, 29.12% gc time)\n"
     ]
    },
    {
     "data": {
      "text/plain": [
       "3-element Array{UnitRange{Int64},1}:\n",
       " 1:231614\n",
       " 1:144624\n",
       " 1:102356"
      ]
     },
     "execution_count": 131,
     "metadata": {},
     "output_type": "execute_result"
    }
   ],
   "source": [
    "@time periods = [find_component_cycle(tuple([pos[i] for pos in input]...)) for i = 1:3]"
   ]
  },
  {
   "cell_type": "code",
   "execution_count": 132,
   "metadata": {},
   "outputs": [
    {
     "data": {
      "text/plain": [
       "428576638953552"
      ]
     },
     "execution_count": 132,
     "metadata": {},
     "output_type": "execute_result"
    }
   ],
   "source": [
    "lcm(length.(periods)...)"
   ]
  },
  {
   "cell_type": "markdown",
   "metadata": {},
   "source": [
    "# Day 13"
   ]
  },
  {
   "cell_type": "code",
   "execution_count": 148,
   "metadata": {},
   "outputs": [
    {
     "data": {
      "text/plain": [
       "2710-element Array{Int64,1}:\n",
       "      1\n",
       "    380\n",
       "    379\n",
       "    385\n",
       "   1008\n",
       "   2709\n",
       " 526488\n",
       "    381\n",
       "   1005\n",
       "    381\n",
       "     12\n",
       "     99\n",
       "    109\n",
       "      ⋮\n",
       "     44\n",
       "     49\n",
       "     29\n",
       "     90\n",
       "     89\n",
       "     20\n",
       "     36\n",
       "     95\n",
       "     22\n",
       "     71\n",
       "     82\n",
       " 526488"
      ]
     },
     "execution_count": 148,
     "metadata": {},
     "output_type": "execute_result"
    }
   ],
   "source": [
    "using Images, IJulia\n",
    "include(\"Intcode.jl\")\n",
    "input = parse.(Int,split(readline(\"input13.txt\"), \",\"))"
   ]
  },
  {
   "cell_type": "code",
   "execution_count": 144,
   "metadata": {},
   "outputs": [
    {
     "data": {
      "image/svg+xml": [
       "<?xml version=\"1.0\" encoding=\"UTF-8\"?>\n",
       "<!DOCTYPE svg PUBLIC \"-//W3C//DTD SVG 1.1//EN\"\n",
       " \"http://www.w3.org/Graphics/SVG/1.1/DTD/svg11.dtd\">\n",
       "<svg xmlns=\"http://www.w3.org/2000/svg\" version=\"1.1\"\n",
       "     width=\"125.0mm\" height=\"25.0mm\"\n",
       "     shape-rendering=\"crispEdges\">\n",
       "<rect x=\"0.0mm\" y=\"0.0mm\"\n",
       "      width=\"24.0mm\" height=\"24.0mm\"\n",
       "      fill=\"#000000\" stroke=\"none\" />\n",
       "<rect x=\"25.0mm\" y=\"0.0mm\"\n",
       "      width=\"24.0mm\" height=\"24.0mm\"\n",
       "      fill=\"#4C4C4C\" stroke=\"none\" />\n",
       "<rect x=\"50.0mm\" y=\"0.0mm\"\n",
       "      width=\"24.0mm\" height=\"24.0mm\"\n",
       "      fill=\"#FFFFFF\" stroke=\"none\" />\n",
       "<rect x=\"75.0mm\" y=\"0.0mm\"\n",
       "      width=\"24.0mm\" height=\"24.0mm\"\n",
       "      fill=\"#00FF00\" stroke=\"none\" />\n",
       "<rect x=\"100.0mm\" y=\"0.0mm\"\n",
       "      width=\"24.0mm\" height=\"24.0mm\"\n",
       "      fill=\"#FF0000\" stroke=\"none\" />\n",
       "</svg>"
      ],
      "text/plain": [
       "5-element Array{RGB{Float64},1} with eltype RGB{Float64}:\n",
       " RGB{Float64}(0.0,0.0,0.0)\n",
       " RGB{Float64}(0.3,0.3,0.3)\n",
       " RGB{Float64}(1.0,1.0,1.0)\n",
       " RGB{Float64}(0.0,1.0,0.0)\n",
       " RGB{Float64}(1.0,0.0,0.0)"
      ]
     },
     "execution_count": 144,
     "metadata": {},
     "output_type": "execute_result"
    }
   ],
   "source": [
    "colors = [\n",
    "    RGB(0,0,0),\n",
    "    RGB(0.3,0.3,0.3),\n",
    "    RGB(1,1,1),\n",
    "    RGB(0,1,0),\n",
    "    RGB(1,0,0),\n",
    "]"
   ]
  },
  {
   "cell_type": "code",
   "execution_count": 146,
   "metadata": {},
   "outputs": [
    {
     "name": "stdout",
     "output_type": "stream",
     "text": [
      "count((==)(2), values(locationDict)) = 357\n",
      "(minX, maxX) = (0, 44)\n",
      "(minY, maxY) = (0, 22)\n"
     ]
    },
    {
     "data": {
      "image/png": "[encoded data removed]",
      "text/plain": [
       "23×45 Array{RGB{Float64},2} with eltype RGB{Float64}:\n",
       " RGB{Float64}(0.3,0.3,0.3)  …  RGB{Float64}(0.3,0.3,0.3)\n",
       " RGB{Float64}(0.3,0.3,0.3)     RGB{Float64}(0.3,0.3,0.3)\n",
       " RGB{Float64}(0.3,0.3,0.3)     RGB{Float64}(0.3,0.3,0.3)\n",
       " RGB{Float64}(0.3,0.3,0.3)     RGB{Float64}(0.3,0.3,0.3)\n",
       " RGB{Float64}(0.3,0.3,0.3)     RGB{Float64}(0.3,0.3,0.3)\n",
       " RGB{Float64}(0.3,0.3,0.3)  …  RGB{Float64}(0.3,0.3,0.3)\n",
       " RGB{Float64}(0.3,0.3,0.3)     RGB{Float64}(0.3,0.3,0.3)\n",
       " RGB{Float64}(0.3,0.3,0.3)     RGB{Float64}(0.3,0.3,0.3)\n",
       " RGB{Float64}(0.3,0.3,0.3)     RGB{Float64}(0.3,0.3,0.3)\n",
       " RGB{Float64}(0.3,0.3,0.3)     RGB{Float64}(0.3,0.3,0.3)\n",
       " RGB{Float64}(0.3,0.3,0.3)  …  RGB{Float64}(0.3,0.3,0.3)\n",
       " RGB{Float64}(0.3,0.3,0.3)     RGB{Float64}(0.3,0.3,0.3)\n",
       " RGB{Float64}(0.3,0.3,0.3)     RGB{Float64}(0.3,0.3,0.3)\n",
       " RGB{Float64}(0.3,0.3,0.3)     RGB{Float64}(0.3,0.3,0.3)\n",
       " RGB{Float64}(0.3,0.3,0.3)     RGB{Float64}(0.3,0.3,0.3)\n",
       " RGB{Float64}(0.3,0.3,0.3)  …  RGB{Float64}(0.3,0.3,0.3)\n",
       " RGB{Float64}(0.3,0.3,0.3)     RGB{Float64}(0.3,0.3,0.3)\n",
       " RGB{Float64}(0.3,0.3,0.3)     RGB{Float64}(0.3,0.3,0.3)\n",
       " RGB{Float64}(0.3,0.3,0.3)     RGB{Float64}(0.3,0.3,0.3)\n",
       " RGB{Float64}(0.3,0.3,0.3)     RGB{Float64}(0.3,0.3,0.3)\n",
       " RGB{Float64}(0.3,0.3,0.3)  …  RGB{Float64}(0.3,0.3,0.3)\n",
       " RGB{Float64}(0.3,0.3,0.3)     RGB{Float64}(0.3,0.3,0.3)\n",
       " RGB{Float64}(0.3,0.3,0.3)     RGB{Float64}(0.3,0.3,0.3)"
      ]
     },
     "execution_count": 146,
     "metadata": {},
     "output_type": "execute_result"
    }
   ],
   "source": [
    "let cpu = Intcode(input)\n",
    "    while !isdone(cpu)\n",
    "        next!(cpu)\n",
    "    end\n",
    "    \n",
    "    locationDict = Dict(\n",
    "        (x,y) => typ for (x,y,typ) in Iterators.partition(cpu.output, 3)\n",
    "    )\n",
    "    \n",
    "    @show count(==(2), values(locationDict))\n",
    "\n",
    "    minX,maxX = extrema(first.(keys(locationDict)))\n",
    "    minY,maxY = extrema(last.(keys(locationDict)))\n",
    "    \n",
    "    @show minX,maxX\n",
    "    @show minY,maxY\n",
    "    \n",
    "    [colors[get(locationDict, (x,y), 0) + 1] for y = minY:maxY, x = minX:maxX]\n",
    "end"
   ]
  },
  {
   "cell_type": "code",
   "execution_count": 158,
   "metadata": {},
   "outputs": [
    {
     "data": {
      "image/png": "[encoded data removed]",
      "text/plain": [
       "23×45 Array{RGB{Float64},2} with eltype RGB{Float64}:\n",
       " RGB{Float64}(0.3,0.3,0.3)  …  RGB{Float64}(0.3,0.3,0.3)\n",
       " RGB{Float64}(0.3,0.3,0.3)     RGB{Float64}(0.3,0.3,0.3)\n",
       " RGB{Float64}(0.3,0.3,0.3)     RGB{Float64}(0.3,0.3,0.3)\n",
       " RGB{Float64}(0.3,0.3,0.3)     RGB{Float64}(0.3,0.3,0.3)\n",
       " RGB{Float64}(0.3,0.3,0.3)     RGB{Float64}(0.3,0.3,0.3)\n",
       " RGB{Float64}(0.3,0.3,0.3)  …  RGB{Float64}(0.3,0.3,0.3)\n",
       " RGB{Float64}(0.3,0.3,0.3)     RGB{Float64}(0.3,0.3,0.3)\n",
       " RGB{Float64}(0.3,0.3,0.3)     RGB{Float64}(0.3,0.3,0.3)\n",
       " RGB{Float64}(0.3,0.3,0.3)     RGB{Float64}(0.3,0.3,0.3)\n",
       " RGB{Float64}(0.3,0.3,0.3)     RGB{Float64}(0.3,0.3,0.3)\n",
       " RGB{Float64}(0.3,0.3,0.3)  …  RGB{Float64}(0.3,0.3,0.3)\n",
       " RGB{Float64}(0.3,0.3,0.3)     RGB{Float64}(0.3,0.3,0.3)\n",
       " RGB{Float64}(0.3,0.3,0.3)     RGB{Float64}(0.3,0.3,0.3)\n",
       " RGB{Float64}(0.3,0.3,0.3)     RGB{Float64}(0.3,0.3,0.3)\n",
       " RGB{Float64}(0.3,0.3,0.3)     RGB{Float64}(0.3,0.3,0.3)\n",
       " RGB{Float64}(0.3,0.3,0.3)  …  RGB{Float64}(0.3,0.3,0.3)\n",
       " RGB{Float64}(0.3,0.3,0.3)     RGB{Float64}(0.3,0.3,0.3)\n",
       " RGB{Float64}(0.3,0.3,0.3)     RGB{Float64}(0.3,0.3,0.3)\n",
       " RGB{Float64}(0.3,0.3,0.3)     RGB{Float64}(0.3,0.3,0.3)\n",
       " RGB{Float64}(0.3,0.3,0.3)     RGB{Float64}(0.3,0.3,0.3)\n",
       " RGB{Float64}(0.3,0.3,0.3)  …  RGB{Float64}(0.3,0.3,0.3)\n",
       " RGB{Float64}(0.3,0.3,0.3)     RGB{Float64}(0.3,0.3,0.3)\n",
       " RGB{Float64}(0.3,0.3,0.3)     RGB{Float64}(0.3,0.3,0.3)"
      ]
     },
     "metadata": {},
     "output_type": "display_data"
    },
    {
     "name": "stdout",
     "output_type": "stream",
     "text": [
      "score = 17468\n",
      "  8.416570 seconds (28.40 M allocations: 683.113 MiB, 7.88% gc time)\n"
     ]
    },
    {
     "data": {
      "text/plain": [
       "17468"
      ]
     },
     "execution_count": 158,
     "metadata": {},
     "output_type": "execute_result"
    }
   ],
   "source": [
    "@time let cpu = Intcode(input)\n",
    "    \n",
    "    image = fill(colors[1], 23, 45)\n",
    "    score = 0\n",
    "    \n",
    "    ballPos = 0\n",
    "    paddlePos = 0\n",
    "    \n",
    "    frames = 0\n",
    "    \n",
    "    \n",
    "    cpu.memory[1] = 2\n",
    "    while !isdone(cpu)\n",
    "        while length(cpu.output) >= 3\n",
    "            x,y,typ = [dequeue!(cpu.output) for i = 1:3]\n",
    "            if x == -1 && y == 0\n",
    "                score = typ\n",
    "            else\n",
    "                image[y+1,x+1] = colors[typ+1]\n",
    "                if typ == 3\n",
    "                    paddlePos = x\n",
    "                elseif typ == 4\n",
    "                    ballPos = x\n",
    "                end\n",
    "            end \n",
    "        end\n",
    "        \n",
    "        if needsinput(cpu)\n",
    "            enqueue!(cpu.input, cmp(ballPos, paddlePos))\n",
    "            \n",
    "             if frames % 3 == 0 && (frames ÷ 100) % 10 == 0\n",
    "                 IJulia.clear_output(true)\n",
    "                 display(image)\n",
    "             end\n",
    "            \n",
    "             frames += 1\n",
    "        end\n",
    "        \n",
    "        next!(cpu)\n",
    "    end\n",
    "    \n",
    "    @show score\n",
    "end"
   ]
  },
  {
   "cell_type": "markdown",
   "metadata": {},
   "source": [
    "# Day 14"
   ]
  },
  {
   "cell_type": "code",
   "execution_count": 169,
   "metadata": {},
   "outputs": [
    {
     "data": {
      "text/plain": [
       "Pair{Dict{String,Int64},Pair{String,Int64}}"
      ]
     },
     "execution_count": 169,
     "metadata": {},
     "output_type": "execute_result"
    }
   ],
   "source": [
    "const Chemical = Pair{String, Int}\n",
    "const Chemicals = Dict{String, Int}\n",
    "const Recipe = Pair{Chemicals, Chemical}"
   ]
  },
  {
   "cell_type": "code",
   "execution_count": 175,
   "metadata": {},
   "outputs": [
    {
     "data": {
      "text/plain": [
       "parse_reaction (generic function with 1 method)"
      ]
     },
     "execution_count": 175,
     "metadata": {},
     "output_type": "execute_result"
    }
   ],
   "source": [
    "function parse_chemical(s)\n",
    "    count, name = split(s)\n",
    "    name => parse(Int, count)\n",
    "end\n",
    "\n",
    "function parse_reaction(line)::Recipe\n",
    "    left,right = split(line, \" => \")\n",
    "    reactants = Dict(parse_chemical(s) for s in split(left, \", \"))\n",
    "    product = parse_chemical(right)\n",
    "    \n",
    "    reactants => product\n",
    "end"
   ]
  },
  {
   "cell_type": "code",
   "execution_count": 233,
   "metadata": {},
   "outputs": [
    {
     "data": {
      "text/plain": [
       "Dict{String,Pair{Dict{String,Int64},Pair{String,Int64}}} with 64 entries:\n",
       "  \"VTGNT\" => Dict(\"JQCZ\"=>1)=>(\"VTGNT\"=>4)\n",
       "  \"MGFZ\"  => Dict(\"JQNGL\"=>6)=>(\"MGFZ\"=>6)\n",
       "  \"JQCZ\"  => Dict(\"KWQSC\"=>1,\"KBRD\"=>14)=>(\"JQCZ\"=>4)\n",
       "  \"DWKLT\" => Dict(\"FTND\"=>1)=>(\"DWKLT\"=>7)\n",
       "  \"KWZKV\" => Dict(\"VTGNT\"=>10,\"JTPF\"=>4)=>(\"KWZKV\"=>9)\n",
       "  \"TPJP\"  => Dict(\"NSPQ\"=>5)=>(\"TPJP\"=>3)\n",
       "  \"HWFQ\"  => Dict(\"ZNBSN\"=>26,\"LCZD\"=>1,\"KMLKR\"=>1,\"QNKZW\"=>11,\"FTND\"=>3,\"PNRC\"…\n",
       "  \"MBGWZ\" => Dict(\"PFBF\"=>1,\"KBLHZ\"=>3)=>(\"MBGWZ\"=>3)\n",
       "  \"KMLKR\" => Dict(\"MJMC\"=>2)=>(\"KMLKR\"=>2)\n",
       "  \"DNPT\"  => Dict(\"ZNBSN\"=>2)=>(\"DNPT\"=>4)\n",
       "  \"JGTR\"  => Dict(\"ORE\"=>134)=>(\"JGTR\"=>3)\n",
       "  \"PNPW\"  => Dict(\"VTJC\"=>2)=>(\"PNPW\"=>7)\n",
       "  \"NLSNC\" => Dict(\"PNPW\"=>6,\"NSPQ\"=>7)=>(\"NLSNC\"=>7)\n",
       "  \"KWQPL\" => Dict(\"TNWR\"=>3)=>(\"KWQPL\"=>9)\n",
       "  \"MJMC\"  => Dict(\"XHPK\"=>2,\"NHQW\"=>4)=>(\"MJMC\"=>1)\n",
       "  \"JTPF\"  => Dict(\"TMTNM\"=>3)=>(\"JTPF\"=>8)\n",
       "  \"MXGQ\"  => Dict(\"SQCB\"=>10)=>(\"MXGQ\"=>5)\n",
       "  \"ZQRBC\" => Dict(\"DHTB\"=>2,\"NLSNC\"=>1,\"SXKC\"=>14)=>(\"ZQRBC\"=>1)\n",
       "  \"NSTR\"  => Dict(\"KWZKV\"=>1,\"MJMC\"=>2,\"SKWKQ\"=>14)=>(\"NSTR\"=>9)\n",
       "  \"WMZD\"  => Dict(\"PNPW\"=>13,\"JZFCN\"=>4)=>(\"WMZD\"=>2)\n",
       "  \"WGDN\"  => Dict(\"ZQRBC\"=>1)=>(\"WGDN\"=>2)\n",
       "  \"GDXG\"  => Dict(\"QNKZW\"=>2,\"TNWR\"=>13,\"SQCB\"=>6)=>(\"GDXG\"=>5)\n",
       "  \"LCZD\"  => Dict(\"PNRC\"=>2)=>(\"LCZD\"=>7)\n",
       "  \"MDXVB\" => Dict(\"ZNBSN\"=>2,\"TNWR\"=>1)=>(\"MDXVB\"=>5)\n",
       "  \"HQTPN\" => Dict(\"MTJF\"=>1,\"JVBK\"=>3,\"KBLHZ\"=>1)=>(\"HQTPN\"=>2)\n",
       "  ⋮       => ⋮"
      ]
     },
     "execution_count": 233,
     "metadata": {},
     "output_type": "execute_result"
    }
   ],
   "source": [
    "reactions = Dict( ((r,p) = parse_reaction(line); first(p) => r => p) for line in eachline(\"input14.txt\") )"
   ]
  },
  {
   "cell_type": "code",
   "execution_count": 235,
   "metadata": {},
   "outputs": [
    {
     "data": {
      "text/plain": [
       "ore_count (generic function with 2 methods)"
      ]
     },
     "execution_count": 235,
     "metadata": {},
     "output_type": "execute_result"
    }
   ],
   "source": [
    "function ore_count(chem::Chemical, resources = Chemicals())\n",
    "    name,count = chem\n",
    "    \n",
    "    if name == \"ORE\"\n",
    "        return count\n",
    "    end\n",
    "    \n",
    "    if haskey(resources, name)\n",
    "        spares = min(count, resources[name])\n",
    "        count -= spares\n",
    "        resources[name] -= spares\n",
    "    end\n",
    "    \n",
    "    if count <= 0\n",
    "        return 0\n",
    "    end\n",
    "    \n",
    "    reactants, product = reactions[name]\n",
    "    \n",
    "    nreactions = ceil(count / last(product)) |> Int\n",
    "    spare = nreactions * last(product) - count\n",
    "    \n",
    "    ore = sum(reactants) do (reactant, rcount)\n",
    "        ore = ore_count(reactant => nreactions*rcount, resources)\n",
    "        #println(\"$(nreactions*rcount) $reactant = $ore ORE\")\n",
    "        ore\n",
    "    end\n",
    "    \n",
    "    resources[name] = get(resources,name,0) + spare\n",
    "    return ore\n",
    "end"
   ]
  },
  {
   "cell_type": "code",
   "execution_count": 244,
   "metadata": {},
   "outputs": [
    {
     "data": {
      "text/plain": [
       "143173"
      ]
     },
     "execution_count": 244,
     "metadata": {},
     "output_type": "execute_result"
    }
   ],
   "source": [
    "oneCount = ore_count(\"FUEL\" => 1)"
   ]
  },
  {
   "cell_type": "code",
   "execution_count": 281,
   "metadata": {},
   "outputs": [
    {
     "data": {
      "text/plain": [
       "binary_search (generic function with 1 method)"
      ]
     },
     "execution_count": 281,
     "metadata": {},
     "output_type": "execute_result"
    }
   ],
   "source": [
    "function binary_search(f, r)\n",
    "    if length(r) == 1\n",
    "        first(r)\n",
    "    elseif length(r) == 2\n",
    "        f(last(r)) ? last(r) : first(r)\n",
    "    else\n",
    "        m = r[(length(r)+1) ÷ 2]\n",
    "        if f(m)\n",
    "            binary_search(f, m:last(r))\n",
    "        else\n",
    "            binary_search(f, first(r):m-1)\n",
    "        end\n",
    "    end\n",
    "end"
   ]
  },
  {
   "cell_type": "code",
   "execution_count": 282,
   "metadata": {},
   "outputs": [
    {
     "data": {
      "text/plain": [
       "8845261"
      ]
     },
     "execution_count": 282,
     "metadata": {},
     "output_type": "execute_result"
    }
   ],
   "source": [
    "binary_search(1:10000000) do n\n",
    "    ore_count(\"FUEL\" => n) <= 10^12\n",
    "end"
   ]
  },
  {
   "cell_type": "markdown",
   "metadata": {},
   "source": [
    "# Day 15"
   ]
  },
  {
   "cell_type": "code",
   "execution_count": 3,
   "metadata": {},
   "outputs": [
    {
     "data": {
      "text/plain": [
       "1045-element Array{Int64,1}:\n",
       "    3\n",
       " 1033\n",
       " 1008\n",
       " 1033\n",
       "    1\n",
       " 1032\n",
       " 1005\n",
       " 1032\n",
       "   31\n",
       " 1008\n",
       " 1033\n",
       "    2\n",
       " 1032\n",
       "    ⋮\n",
       "    0\n",
       "   21\n",
       "   21\n",
       "    1\n",
       "   10\n",
       "    1\n",
       "    0\n",
       "    0\n",
       "    0\n",
       "    0\n",
       "    0\n",
       "    0"
      ]
     },
     "execution_count": 3,
     "metadata": {},
     "output_type": "execute_result"
    }
   ],
   "source": [
    "using Images, DataStructures\n",
    "include(\"Intcode.jl\")\n",
    "input = parse.(Int,split(readline(\"input15.txt\"), \",\"))"
   ]
  },
  {
   "cell_type": "code",
   "execution_count": 4,
   "metadata": {},
   "outputs": [
    {
     "data": {
      "text/plain": [
       "4-element Array{Tuple{Int64,Int64},1}:\n",
       " (0, -1)\n",
       " (0, 1) \n",
       " (1, 0) \n",
       " (-1, 0)"
      ]
     },
     "execution_count": 4,
     "metadata": {},
     "output_type": "execute_result"
    }
   ],
   "source": [
    "const directions = [\n",
    "    (0,-1), # NORTH\n",
    "    (0,+1), # SOUTH\n",
    "    (+1,0), # EAST\n",
    "    (-1,0), # WEST\n",
    "]"
   ]
  },
  {
   "cell_type": "code",
   "execution_count": 5,
   "metadata": {},
   "outputs": [
    {
     "data": {
      "text/plain": [
       "tryMove (generic function with 1 method)"
      ]
     },
     "execution_count": 5,
     "metadata": {},
     "output_type": "execute_result"
    }
   ],
   "source": [
    "function tryMove(cpu, direction)\n",
    "    enqueue!(cpu.input, direction)\n",
    "    while isempty(cpu.output)\n",
    "            @assert !isdone(cpu)\n",
    "            @assert !(needsinput(cpu) && isempty(cpu.input))\n",
    "            next!(cpu)\n",
    "    end\n",
    "    dequeue!(cpu.output)\n",
    "end"
   ]
  },
  {
   "cell_type": "code",
   "execution_count": 11,
   "metadata": {},
   "outputs": [],
   "source": [
    "struct SavedState\n",
    "    steps::Int\n",
    "    memory::Vector{Int}\n",
    "    pos::Tuple{Int,Int}\n",
    "end\n",
    "Base.isless(a::SavedState, b::SavedState) = Base.isless(a.steps, b.steps)"
   ]
  },
  {
   "cell_type": "code",
   "execution_count": 32,
   "metadata": {},
   "outputs": [
    {
     "name": "stdout",
     "output_type": "stream",
     "text": [
      "Found oxygen (-18, -20) (330 steps)\n"
     ]
    },
    {
     "data": {
      "text/plain": [
       "(Set(Tuple{Int64,Int64}[(15, -17), (-4, 5), (21, 13), (-5, -13), (-19, -14), (-10, -13), (-19, -5), (-9, 19), (19, -9), (-8, 19)  …  (5, -5), (-2, 5), (-5, 19), (11, -19), (3, -2), (7, -2), (4, -7), (-18, 17), (-5, -17), (-17, -1), (15, -19)]), (-18, -20))"
      ]
     },
     "execution_count": 32,
     "metadata": {},
     "output_type": "execute_result"
    }
   ],
   "source": [
    "walls,oxygenPos = let states = [SavedState(0, input, (0,0))]\n",
    "    visited = Set{Tuple{Int,Int}}()\n",
    "    walls = Set{Tuple{Int,Int}}()\n",
    "    oxygenPos = nothing\n",
    "    while !isempty(states)\n",
    "        state = heappop!(states)\n",
    "        \n",
    "        for (i,dir) in enumerate(directions)\n",
    "            newPos = state.pos .+ dir\n",
    "            \n",
    "            if newPos in visited || newPos in walls\n",
    "                continue\n",
    "            end\n",
    "            \n",
    "            let cpu = Intcode(state.memory)\n",
    "                status = tryMove(cpu,i)\n",
    "                if status == 0\n",
    "                    push!(walls, newPos)\n",
    "                else\n",
    "                    newState = SavedState(state.steps+1, Int.(cpu.memory), newPos)\n",
    "                    heappush!(states, newState)\n",
    "                    if status == 2\n",
    "                        oxygenPos = newPos\n",
    "                        println(\"Found oxygen $newPos ($(newState.steps) steps)\")\n",
    "                    end\n",
    "                end\n",
    "            end\n",
    "        end\n",
    "        push!(visited,state.pos)\n",
    "    end\n",
    "    \n",
    "    walls,oxygenPos\n",
    "end"
   ]
  },
  {
   "cell_type": "code",
   "execution_count": 34,
   "metadata": {},
   "outputs": [
    {
     "data": {
      "image/png": "[encoded data removed]",
      "text/plain": [
       "41×39 Array{RGB{N0f8},2} with eltype RGB{Normed{UInt8,8}}:\n",
       " RGB{N0f8}(1.0,1.0,1.0)  RGB{N0f8}(0.0,0.0,0.0)  …  RGB{N0f8}(0.0,0.0,0.0)\n",
       " RGB{N0f8}(0.0,0.0,0.0)  RGB{N0f8}(1.0,0.0,0.0)     RGB{N0f8}(1.0,1.0,1.0)\n",
       " RGB{N0f8}(0.0,0.0,0.0)  RGB{N0f8}(1.0,1.0,1.0)     RGB{N0f8}(0.0,0.0,0.0)\n",
       " RGB{N0f8}(0.0,0.0,0.0)  RGB{N0f8}(1.0,1.0,1.0)     RGB{N0f8}(1.0,1.0,1.0)\n",
       " RGB{N0f8}(1.0,1.0,1.0)  RGB{N0f8}(0.0,0.0,0.0)     RGB{N0f8}(0.0,0.0,0.0)\n",
       " RGB{N0f8}(0.0,0.0,0.0)  RGB{N0f8}(1.0,1.0,1.0)  …  RGB{N0f8}(1.0,1.0,1.0)\n",
       " RGB{N0f8}(0.0,0.0,0.0)  RGB{N0f8}(1.0,1.0,1.0)     RGB{N0f8}(0.0,0.0,0.0)\n",
       " RGB{N0f8}(0.0,0.0,0.0)  RGB{N0f8}(1.0,1.0,1.0)     RGB{N0f8}(0.0,0.0,0.0)\n",
       " RGB{N0f8}(0.0,0.0,0.0)  RGB{N0f8}(1.0,1.0,1.0)     RGB{N0f8}(0.0,0.0,0.0)\n",
       " RGB{N0f8}(0.0,0.0,0.0)  RGB{N0f8}(1.0,1.0,1.0)     RGB{N0f8}(1.0,1.0,1.0)\n",
       " RGB{N0f8}(1.0,1.0,1.0)  RGB{N0f8}(0.0,0.0,0.0)  …  RGB{N0f8}(0.0,0.0,0.0)\n",
       " RGB{N0f8}(0.0,0.0,0.0)  RGB{N0f8}(1.0,1.0,1.0)     RGB{N0f8}(1.0,1.0,1.0)\n",
       " RGB{N0f8}(0.0,0.0,0.0)  RGB{N0f8}(1.0,1.0,1.0)     RGB{N0f8}(0.0,0.0,0.0)\n",
       " ⋮                                               ⋱                        \n",
       " RGB{N0f8}(0.0,0.0,0.0)  RGB{N0f8}(1.0,1.0,1.0)     RGB{N0f8}(1.0,1.0,1.0)\n",
       " RGB{N0f8}(0.0,0.0,0.0)  RGB{N0f8}(1.0,1.0,1.0)  …  RGB{N0f8}(0.0,0.0,0.0)\n",
       " RGB{N0f8}(0.0,0.0,0.0)  RGB{N0f8}(1.0,1.0,1.0)     RGB{N0f8}(0.0,0.0,0.0)\n",
       " RGB{N0f8}(0.0,0.0,0.0)  RGB{N0f8}(1.0,1.0,1.0)     RGB{N0f8}(0.0,0.0,0.0)\n",
       " RGB{N0f8}(0.0,0.0,0.0)  RGB{N0f8}(1.0,1.0,1.0)     RGB{N0f8}(1.0,1.0,1.0)\n",
       " RGB{N0f8}(0.0,0.0,0.0)  RGB{N0f8}(1.0,1.0,1.0)     RGB{N0f8}(0.0,0.0,0.0)\n",
       " RGB{N0f8}(0.0,0.0,0.0)  RGB{N0f8}(1.0,1.0,1.0)  …  RGB{N0f8}(0.0,0.0,0.0)\n",
       " RGB{N0f8}(0.0,0.0,0.0)  RGB{N0f8}(1.0,1.0,1.0)     RGB{N0f8}(0.0,0.0,0.0)\n",
       " RGB{N0f8}(0.0,0.0,0.0)  RGB{N0f8}(1.0,1.0,1.0)     RGB{N0f8}(1.0,1.0,1.0)\n",
       " RGB{N0f8}(1.0,1.0,1.0)  RGB{N0f8}(0.0,0.0,0.0)     RGB{N0f8}(0.0,0.0,0.0)\n",
       " RGB{N0f8}(0.0,0.0,0.0)  RGB{N0f8}(1.0,1.0,1.0)     RGB{N0f8}(1.0,1.0,1.0)\n",
       " RGB{N0f8}(1.0,1.0,1.0)  RGB{N0f8}(0.0,0.0,0.0)  …  RGB{N0f8}(0.0,0.0,0.0)"
      ]
     },
     "execution_count": 34,
     "metadata": {},
     "output_type": "execute_result"
    }
   ],
   "source": [
    "minX,maxX = extrema(first.(walls))\n",
    "minY,maxY = extrema(last.(walls))\n",
    "\n",
    "f(x,y) = if (x,y) in walls\n",
    "            RGB(0,0,0)\n",
    "        elseif (x,y) == oxygenPos\n",
    "            RGB(1,0,0)\n",
    "        elseif (x,y) == (0,0)\n",
    "            RGB(0,1,0)\n",
    "        else\n",
    "            RGB(1,1,1)\n",
    "        end\n",
    "\n",
    "[f(j,i) for i = minY:maxY, j = minX:maxY]"
   ]
  },
  {
   "cell_type": "code",
   "execution_count": 36,
   "metadata": {},
   "outputs": [
    {
     "name": "stdout",
     "output_type": "stream",
     "text": [
      "dist = 352\n"
     ]
    }
   ],
   "source": [
    "let open = [0 => oxygenPos]\n",
    "    visited = Set{Tuple{Int,Int}}()\n",
    "    \n",
    "    while !isempty(open)\n",
    "        dist, pos = heappop!(open)\n",
    "        for d in directions\n",
    "            newPos = pos .+ d\n",
    "            if newPos in walls || newPos in visited\n",
    "                continue\n",
    "            end\n",
    "            heappush!(open, dist+1 => newPos)\n",
    "        end\n",
    "        push!(visited, pos)\n",
    "        \n",
    "        if isempty(open)\n",
    "            @show dist\n",
    "        end\n",
    "    end\n",
    "end"
   ]
  },
  {
   "cell_type": "code",
   "execution_count": 357,
   "metadata": {},
   "outputs": [
    {
     "data": {
      "text/plain": [
       "Dict{Pair{Int64,Int64},Pair{Int64,Array{Int64,1}}} with 6 entries:\n",
       "  2=>-1 => 3=>[3, 1033, 1008, 1033, 1, 1032, 1005, 1032, 31, 1008  …  20, 1, 10…\n",
       "  2=>-3 => 5=>[3, 1033, 1008, 1033, 1, 1032, 1005, 1032, 31, 1008  …  18, 1, 9,…\n",
       "  1=>0  => 1=>[3, 1033, 1008, 1033, 1, 1032, 1005, 1032, 31, 1008  …  21, 0, 10…\n",
       "  2=>-2 => 4=>[3, 1033, 1008, 1033, 1, 1032, 1005, 1032, 31, 1008  …  19, 1, 9,…\n",
       "  0=>0  => 0=>[3, 1033, 1008, 1033, 1, 1032, 1005, 1032, 31, 1008  …  21, 1, 10…\n",
       "  2=>0  => 2=>[3, 1033, 1008, 1033, 1, 1032, 1005, 1032, 31, 1008  …  21, 1, 10…"
      ]
     },
     "execution_count": 357,
     "metadata": {},
     "output_type": "execute_result"
    }
   ],
   "source": [
    "backups"
   ]
  },
  {
   "cell_type": "markdown",
   "metadata": {},
   "source": [
    "# Day 16"
   ]
  },
  {
   "cell_type": "code",
   "execution_count": 336,
   "metadata": {},
   "outputs": [
    {
     "data": {
      "text/plain": [
       "5971981"
      ]
     },
     "execution_count": 336,
     "metadata": {},
     "output_type": "execute_result"
    }
   ],
   "source": [
    "input = parse.(Int,readline(\"input16.txt\") |> collect)\n",
    "len = 10_000 * length(input)\n",
    "offset = parse(Int, join(input[1:7]))"
   ]
  },
  {
   "cell_type": "code",
   "execution_count": 337,
   "metadata": {},
   "outputs": [
    {
     "data": {
      "text/plain": [
       "(6500000, 5971981)"
      ]
     },
     "execution_count": 337,
     "metadata": {},
     "output_type": "execute_result"
    }
   ],
   "source": [
    "len,offset"
   ]
  },
  {
   "cell_type": "code",
   "execution_count": 338,
   "metadata": {},
   "outputs": [
    {
     "name": "stdout",
     "output_type": "stream",
     "text": [
      " 12.517555 seconds (212.86 M allocations: 4.356 GiB, 6.38% gc time)\n"
     ]
    },
    {
     "data": {
      "text/plain": [
       "\"62938399\""
      ]
     },
     "execution_count": 338,
     "metadata": {},
     "output_type": "execute_result"
    }
   ],
   "source": [
    "@time let A = getDigit.(0,offset:len)\n",
    "    for n = 1:100\n",
    "        for i = length(A)-1:-1:1\n",
    "            A[i] = (A[i] + A[i+1]) % 10\n",
    "        end\n",
    "        A = abs.(A)\n",
    "    end\n",
    "    A[2:9] |> join\n",
    "end"
   ]
  },
  {
   "cell_type": "code",
   "execution_count": 103,
   "metadata": {},
   "outputs": [
    {
     "data": {
      "text/plain": [
       "650×650 Array{Int64,2}:\n",
       " 1  0  -1  0  1   0  -1  0   1   0  -1  …   0  -1   0   1   0  -1  0   1   0\n",
       " 0  1   1  0  0  -1  -1  0   0   1   1      1   1   0   0  -1  -1  0   0   1\n",
       " 0  0   1  1  1   0   0  0  -1  -1  -1      0   0   0  -1  -1  -1  0   0   0\n",
       " 0  0   0  1  1   1   1  0   0   0   0      0   0   1   1   1   1  0   0   0\n",
       " 0  0   0  0  1   1   1  1   1   0   0      0   0   0   1   1   1  1   1   0\n",
       " 0  0   0  0  0   1   1  1   1   1   1  …  -1  -1  -1  -1  -1  -1  0   0   0\n",
       " 0  0   0  0  0   0   1  1   1   1   1     -1  -1   0   0   0   0  0   0   0\n",
       " 0  0   0  0  0   0   0  1   1   1   1      0   0   0   0   0   0  1   1   1\n",
       " 0  0   0  0  0   0   0  0   1   1   1     -1  -1  -1  -1  -1  -1  0   0   0\n",
       " 0  0   0  0  0   0   0  0   0   1   1      0   0   0   0   0   0  0   0   1\n",
       " 0  0   0  0  0   0   0  0   0   0   1  …   0   0   0   0   0   0  0  -1  -1\n",
       " 0  0   0  0  0   0   0  0   0   0   0      1   1   1   1   1   1  0   0   0\n",
       " 0  0   0  0  0   0   0  0   0   0   0      1   1   1   1   1   1  1   1   0\n",
       " ⋮                ⋮                  ⋮  ⋱                   ⋮               \n",
       " 0  0   0  0  0   0   0  0   0   0   0      1   1   1   1   1   1  1   1   1\n",
       " 0  0   0  0  0   0   0  0   0   0   0      1   1   1   1   1   1  1   1   1\n",
       " 0  0   0  0  0   0   0  0   0   0   0  …   1   1   1   1   1   1  1   1   1\n",
       " 0  0   0  0  0   0   0  0   0   0   0      1   1   1   1   1   1  1   1   1\n",
       " 0  0   0  0  0   0   0  0   0   0   0      0   1   1   1   1   1  1   1   1\n",
       " 0  0   0  0  0   0   0  0   0   0   0      0   0   1   1   1   1  1   1   1\n",
       " 0  0   0  0  0   0   0  0   0   0   0      0   0   0   1   1   1  1   1   1\n",
       " 0  0   0  0  0   0   0  0   0   0   0  …   0   0   0   0   1   1  1   1   1\n",
       " 0  0   0  0  0   0   0  0   0   0   0      0   0   0   0   0   1  1   1   1\n",
       " 0  0   0  0  0   0   0  0   0   0   0      0   0   0   0   0   0  1   1   1\n",
       " 0  0   0  0  0   0   0  0   0   0   0      0   0   0   0   0   0  0   1   1\n",
       " 0  0   0  0  0   0   0  0   0   0   0      0   0   0   0   0   0  0   0   1"
      ]
     },
     "execution_count": 103,
     "metadata": {},
     "output_type": "execute_result"
    }
   ],
   "source": [
    "basePattern = [0,1,0,-1]\n",
    "M = reduce(hcat, collect(Iterators.take(Iterators.drop(Iterators.cycle(RepeaterIterator(basePattern, i)), 1), length(input))) for i = 1:length(input))' |> collect"
   ]
  },
  {
   "cell_type": "code",
   "execution_count": 340,
   "metadata": {},
   "outputs": [
    {
     "name": "stdout",
     "output_type": "stream",
     "text": [
      "  0.028962 seconds (622 allocations: 1.034 MiB)\n"
     ]
    },
    {
     "data": {
      "text/plain": [
       "\"30550349\""
      ]
     },
     "execution_count": 340,
     "metadata": {},
     "output_type": "execute_result"
    }
   ],
   "source": [
    "@time let v = input\n",
    "    for i = 1:100\n",
    "        v = abs.(M * v) .% 10\n",
    "    end\n",
    "    v[1:8] |> join\n",
    "end"
   ]
  },
  {
   "cell_type": "markdown",
   "metadata": {},
   "source": [
    "# Day 17"
   ]
  },
  {
   "cell_type": "code",
   "execution_count": 84,
   "metadata": {},
   "outputs": [
    {
     "data": {
      "text/plain": [
       "1491-element Array{Int64,1}:\n",
       "    1\n",
       "  330\n",
       "  331\n",
       "  332\n",
       "  109\n",
       " 4286\n",
       " 1102\n",
       "    1\n",
       " 1182\n",
       "   16\n",
       " 1101\n",
       " 1491\n",
       "    0\n",
       "    ⋮\n",
       "    1\n",
       "   32\n",
       "    1\n",
       "    9\n",
       "    1\n",
       "   32\n",
       "    1\n",
       "    9\n",
       "    1\n",
       "   32\n",
       "   11\n",
       "   20"
      ]
     },
     "execution_count": 84,
     "metadata": {},
     "output_type": "execute_result"
    }
   ],
   "source": [
    "include(\"Intcode.jl\")\n",
    "input = parse.(Int,split(readline(\"input17.txt\"), \",\"))"
   ]
  },
  {
   "cell_type": "code",
   "execution_count": 34,
   "metadata": {},
   "outputs": [
    {
     "data": {
      "text/plain": [
       "65×43 Array{Char,2}:\n",
       " '.'  '.'  '.'  '.'  '#'  '#'  '#'  '#'  …  '.'  '.'  '.'  '.'  '.'  '.'  '.'\n",
       " '.'  '.'  '.'  '.'  '#'  '.'  '.'  '.'     '.'  '.'  '.'  '.'  '.'  '.'  '.'\n",
       " '.'  '.'  '.'  '.'  '#'  '.'  '.'  '.'     '.'  '.'  '.'  '.'  '.'  '.'  '.'\n",
       " '.'  '.'  '.'  '.'  '#'  '.'  '.'  '.'     '.'  '.'  '.'  '.'  '.'  '.'  '.'\n",
       " '.'  '.'  '.'  '.'  '#'  '.'  '.'  '.'     '.'  '.'  '.'  '.'  '.'  '.'  '.'\n",
       " '.'  '.'  '.'  '.'  '#'  '.'  '.'  '.'  …  '.'  '.'  '.'  '.'  '.'  '.'  '.'\n",
       " '.'  '.'  '.'  '.'  '#'  '.'  '.'  '.'     '.'  '.'  '.'  '.'  '.'  '.'  '.'\n",
       " '.'  '.'  '.'  '.'  '#'  '.'  '.'  '.'     '.'  '.'  '.'  '.'  '.'  '.'  '.'\n",
       " '.'  '.'  '.'  '.'  '#'  '#'  '#'  '#'     '.'  '.'  '.'  '.'  '.'  '.'  '.'\n",
       " '.'  '.'  '.'  '.'  '.'  '.'  '.'  '.'     '.'  '.'  '.'  '.'  '.'  '.'  '.'\n",
       " '.'  '.'  '.'  '.'  '.'  '.'  '.'  '.'  …  '.'  '.'  '.'  '.'  '.'  '.'  '.'\n",
       " '.'  '.'  '.'  '.'  '.'  '.'  '.'  '.'     '.'  '.'  '.'  '.'  '.'  '.'  '.'\n",
       " '.'  '.'  '.'  '.'  '.'  '.'  '.'  '.'     '.'  '.'  '.'  '.'  '.'  '.'  '.'\n",
       " ⋮                        ⋮              ⋱                      ⋮            \n",
       " '.'  '.'  '.'  '.'  '.'  '.'  '.'  '.'     '.'  '.'  '.'  '.'  '.'  '.'  '.'\n",
       " '.'  '.'  '.'  '.'  '.'  '.'  '.'  '.'     '.'  '.'  '.'  '.'  '.'  '.'  '.'\n",
       " '.'  '.'  '.'  '.'  '.'  '.'  '.'  '.'  …  '.'  '.'  '.'  '.'  '.'  '.'  '.'\n",
       " '.'  '.'  '.'  '.'  '.'  '.'  '.'  '.'     '.'  '.'  '.'  '.'  '.'  '.'  '.'\n",
       " '.'  '.'  '.'  '.'  '.'  '.'  '.'  '.'     '.'  '.'  '.'  '.'  '.'  '.'  '.'\n",
       " '.'  '.'  '.'  '.'  '.'  '.'  '.'  '.'     '.'  '.'  '.'  '.'  '.'  '.'  '.'\n",
       " '.'  '.'  '.'  '.'  '.'  '.'  '.'  '.'     '.'  '.'  '.'  '.'  '.'  '.'  '.'\n",
       " '.'  '.'  '.'  '.'  '.'  '.'  '.'  '.'  …  '.'  '.'  '.'  '.'  '.'  '.'  '.'\n",
       " '.'  '.'  '.'  '.'  '.'  '.'  '.'  '.'     '.'  '.'  '.'  '.'  '.'  '.'  '.'\n",
       " '.'  '.'  '.'  '.'  '.'  '.'  '.'  '.'     '.'  '.'  '.'  '.'  '.'  '.'  '.'\n",
       " '.'  '.'  '.'  '.'  '.'  '.'  '.'  '.'     '.'  '.'  '.'  '.'  '.'  '.'  '.'\n",
       " '.'  '.'  '.'  '.'  '.'  '.'  '.'  '.'     '.'  '.'  '.'  '.'  '.'  '.'  '.'"
      ]
     },
     "execution_count": 34,
     "metadata": {},
     "output_type": "execute_result"
    }
   ],
   "source": [
    "grid = let cpu = Intcode(input)\n",
    "    while !isdone(cpu) && !needsinput(cpu)\n",
    "        next!(cpu)\n",
    "    end\n",
    "    lines = UInt8.(collect(cpu.output)) |> String |> split\n",
    "    reduce(hcat, collect.(lines)) |> permutedims\n",
    "end"
   ]
  },
  {
   "cell_type": "code",
   "execution_count": 35,
   "metadata": {},
   "outputs": [
    {
     "data": {
      "text/plain": [
       "(65, 43)"
      ]
     },
     "execution_count": 35,
     "metadata": {},
     "output_type": "execute_result"
    }
   ],
   "source": [
    "h,w = size(grid)"
   ]
  },
  {
   "cell_type": "code",
   "execution_count": 36,
   "metadata": {},
   "outputs": [
    {
     "data": {
      "text/plain": [
       "11-element Array{Tuple{Int64,Int64},1}:\n",
       " (49, 3) \n",
       " (53, 11)\n",
       " (35, 13)\n",
       " (57, 13)\n",
       " (9, 15) \n",
       " (35, 15)\n",
       " (13, 17)\n",
       " (29, 17)\n",
       " (29, 23)\n",
       " (17, 25)\n",
       " (27, 27)"
      ]
     },
     "execution_count": 36,
     "metadata": {},
     "output_type": "execute_result"
    }
   ],
   "source": [
    "intersections = collect((i,j) for i = 2:h-1, j = 2:w-1 if '#' == grid[i,j] == grid[i+1,j] == grid[i-1,j] == grid[i,j+1] == grid[i,j-1])"
   ]
  },
  {
   "cell_type": "code",
   "execution_count": 37,
   "metadata": {},
   "outputs": [
    {
     "data": {
      "text/plain": [
       "4600"
      ]
     },
     "execution_count": 37,
     "metadata": {},
     "output_type": "execute_result"
    }
   ],
   "source": [
    "sum((i-1)*(j-1) for (i,j) in intersections)"
   ]
  },
  {
   "cell_type": "code",
   "execution_count": 44,
   "metadata": {},
   "outputs": [
    {
     "name": "stdout",
     "output_type": "stream",
     "text": [
      "(i, j) = (17, 43)\n"
     ]
    },
    {
     "data": {
      "text/plain": [
       "3×2 Array{Char,2}:\n",
       " '.'  '.'\n",
       " '#'  '^'\n",
       " '.'  '.'"
      ]
     },
     "execution_count": 44,
     "metadata": {},
     "output_type": "execute_result"
    }
   ],
   "source": [
    "let (i,j) = Tuple(findfirst(==('^'), grid))\n",
    "    @show i,j\n",
    "    grid[i-1:i+1,j-1:j]\n",
    "end"
   ]
  },
  {
   "cell_type": "code",
   "execution_count": 70,
   "metadata": {},
   "outputs": [
    {
     "data": {
      "text/plain": [
       "66-element Array{Union{Char, Int64},1}:\n",
       "   'L'\n",
       " 12   \n",
       "   'L'\n",
       " 10   \n",
       "   'R'\n",
       "  8   \n",
       "   'L'\n",
       " 12   \n",
       "   'R'\n",
       "  8   \n",
       "   'R'\n",
       " 10   \n",
       "   'R'\n",
       "  ⋮   \n",
       "   'R'\n",
       "  8   \n",
       "   'R'\n",
       " 10   \n",
       "   'R'\n",
       " 12   \n",
       "   'L'\n",
       " 10   \n",
       "   'R'\n",
       " 12   \n",
       "   'R'\n",
       "  8   "
      ]
     },
     "execution_count": 70,
     "metadata": {},
     "output_type": "execute_result"
    }
   ],
   "source": [
    "let path = Union{Int,Char}[]\n",
    "    dir = -1, 0\n",
    "    i, j = 17, 43\n",
    "    count = 0\n",
    "    while true\n",
    "        newI,newJ = (i,j) .+ dir\n",
    "        if newI in 1:size(grid,1) && newJ in 1:size(grid,2) && grid[newI,newJ] == '#'\n",
    "            i,j = newI, newJ\n",
    "            count += 1\n",
    "            #push!(path, 1)\n",
    "            continue\n",
    "        end\n",
    "        \n",
    "        count == 0 || push!(path, count)\n",
    "        count = 0\n",
    "        \n",
    "        dirLeft = (-dir[2], dir[1])\n",
    "        newI,newJ = (i,j) .+ dirLeft\n",
    "        if newI in 1:size(grid,1) && newJ in 1:size(grid,2) && grid[newI,newJ] == '#'\n",
    "            push!(path, 'L')\n",
    "            dir = dirLeft\n",
    "            continue\n",
    "        end\n",
    "\n",
    "        dirRight = (dir[2], -dir[1])\n",
    "        newI,newJ = (i,j) .+ dirRight\n",
    "        if newI in 1:size(grid,1) && newJ in 1:size(grid,2) && grid[newI,newJ] == '#'\n",
    "            push!(path, 'R')\n",
    "            dir = dirRight\n",
    "            continue\n",
    "        end            \n",
    "        break\n",
    "    end\n",
    "    path\n",
    "end"
   ]
  },
  {
   "cell_type": "code",
   "execution_count": 71,
   "metadata": {},
   "outputs": [
    {
     "data": {
      "text/plain": [
       "\"L,12,L,10,R,8,L,12,R,8,R,10,R,12,L,12,L,10,R,8,L,12,R,8,R,10,R,12,L,10,R,12,R,8,L,10,R,12,R,8,R,8,R,10,R,12,L,12,L,10,R,8,L,12,R,8,R,10,R,12,L,10,R,12,R,8\""
      ]
     },
     "execution_count": 71,
     "metadata": {},
     "output_type": "execute_result"
    }
   ],
   "source": [
    "join(string.(ans),',')"
   ]
  },
  {
   "cell_type": "code",
   "execution_count": 80,
   "metadata": {},
   "outputs": [
    {
     "data": {
      "text/plain": [
       "\"A,B,A,B,C,C,B,A,B,C\""
      ]
     },
     "execution_count": 80,
     "metadata": {},
     "output_type": "execute_result"
    }
   ],
   "source": [
    "A = \"L,12,L,10,R,8,L,12\"\n",
    "B = \"R,8,R,10,R,12\"\n",
    "C = \"L,10,R,12,R,8\"\n",
    "main = \"A,B,A,B,C,C,B,A,B,C\""
   ]
  },
  {
   "cell_type": "code",
   "execution_count": 87,
   "metadata": {},
   "outputs": [
    {
     "data": {
      "text/plain": [
       "1113411"
      ]
     },
     "execution_count": 87,
     "metadata": {},
     "output_type": "execute_result"
    }
   ],
   "source": [
    "let cpu = Intcode(input)\n",
    "    cpu.memory[1] = 2\n",
    "    inputStr = join([main,A,B,C,\"n\\n\"], '\\n')\n",
    "    for c in inputStr\n",
    "        enqueue!(cpu.input, UInt8(c))\n",
    "    end\n",
    "    while !isdone(cpu)\n",
    "        next!(cpu)\n",
    "    end\n",
    "    collect(cpu.output) |> last \n",
    "end"
   ]
  },
  {
   "cell_type": "markdown",
   "metadata": {},
   "source": [
    "# Day 18"
   ]
  },
  {
   "cell_type": "code",
   "execution_count": 1,
   "metadata": {},
   "outputs": [
    {
     "data": {
      "text/plain": [
       "81×81 Array{Char,2}:\n",
       " '#'  '#'  '#'  '#'  '#'  '#'  '#'  '#'  …  '#'  '#'  '#'  '#'  '#'  '#'  '#'\n",
       " '#'  '.'  '.'  '.'  '.'  '.'  '.'  '.'     '.'  '.'  '.'  '.'  '.'  't'  '#'\n",
       " '#'  '.'  '#'  '#'  '#'  '#'  '#'  '#'     '#'  '#'  '#'  '#'  '#'  '.'  '#'\n",
       " '#'  '.'  '.'  '.'  'Z'  '.'  '.'  '.'     '#'  '.'  '#'  '.'  '.'  '.'  '#'\n",
       " '#'  '.'  '#'  '#'  '#'  '#'  '#'  '.'     '#'  '.'  '#'  '.'  '#'  '#'  '#'\n",
       " '#'  '.'  '#'  '.'  '.'  '.'  '.'  '.'  …  '#'  '.'  '.'  '.'  '#'  '.'  '#'\n",
       " '#'  '.'  '#'  '.'  '#'  '.'  '#'  '#'     '#'  '.'  '#'  '#'  '#'  '.'  '#'\n",
       " '#'  '.'  '#'  '.'  '#'  '.'  '#'  '.'     '#'  '.'  '#'  '.'  '.'  '.'  '#'\n",
       " '#'  '.'  '#'  '.'  '#'  '#'  '#'  '.'     '#'  '.'  '#'  '.'  '#'  '.'  '#'\n",
       " '#'  '.'  '#'  '.'  '.'  '.'  '#'  '.'     '#'  '.'  '#'  '.'  '#'  '.'  '#'\n",
       " '#'  '.'  '#'  '#'  '#'  '.'  '#'  '.'  …  '#'  '.'  '#'  '.'  '#'  '.'  '#'\n",
       " '#'  '.'  '#'  '.'  '.'  '.'  '#'  '.'     '.'  '.'  '.'  '.'  '#'  '.'  '#'\n",
       " '#'  '.'  '#'  '.'  '#'  '#'  '#'  '.'     '#'  '#'  '#'  '#'  '#'  '.'  '#'\n",
       " ⋮                        ⋮              ⋱       ⋮                        ⋮  \n",
       " '#'  '.'  '.'  '.'  '#'  '.'  '.'  '.'     '.'  '.'  '.'  '.'  '#'  '.'  '#'\n",
       " '#'  '.'  '#'  '#'  '#'  '#'  '#'  '.'  …  '#'  '#'  '#'  '#'  '#'  '.'  '#'\n",
       " '#'  '.'  '.'  '.'  '#'  '.'  '.'  '.'     '#'  '.'  '.'  '.'  '#'  '.'  '#'\n",
       " '#'  '#'  '#'  '.'  '#'  '.'  '#'  '#'     '#'  '.'  '#'  '.'  '#'  '.'  '#'\n",
       " '#'  '.'  '.'  '.'  '#'  '.'  '.'  '.'     'N'  '.'  '#'  '.'  '#'  '.'  '#'\n",
       " '#'  '.'  '#'  '#'  '#'  '#'  '#'  '.'     '#'  '#'  '#'  '.'  '#'  'T'  '#'\n",
       " '#'  '.'  'I'  '.'  '#'  '.'  '.'  '.'  …  '#'  '.'  '.'  '.'  '#'  '.'  '#'\n",
       " '#'  '.'  '#'  '.'  '#'  '.'  '#'  '#'     '#'  '.'  '#'  '#'  '#'  '.'  '#'\n",
       " '#'  '.'  '#'  '.'  '.'  '.'  '#'  '.'     '#'  '.'  '.'  '.'  '.'  '.'  '#'\n",
       " '#'  '.'  '#'  '#'  '#'  '#'  '#'  '#'     '#'  '#'  '#'  '#'  '#'  '.'  '#'\n",
       " '#'  '.'  '.'  '.'  '.'  '.'  '.'  '.'     '.'  '.'  '.'  '.'  '.'  '.'  '#'\n",
       " '#'  '#'  '#'  '#'  '#'  '#'  '#'  '#'  …  '#'  '#'  '#'  '#'  '#'  '#'  '#'"
      ]
     },
     "execution_count": 1,
     "metadata": {},
     "output_type": "execute_result"
    }
   ],
   "source": [
    "using DataStructures\n",
    "maze = permutedims(reduce(hcat, collect.(readlines(\"input18.txt\"))))"
   ]
  },
  {
   "cell_type": "code",
   "execution_count": 6,
   "metadata": {},
   "outputs": [
    {
     "data": {
      "text/plain": [
       "Dict{Char,Tuple{Int64,Int64}} with 53 entries:\n",
       "  'w' => (14, 72)\n",
       "  'E' => (26, 5)\n",
       "  'Z' => (4, 5)\n",
       "  'o' => (32, 20)\n",
       "  'B' => (2, 67)\n",
       "  'h' => (32, 80)\n",
       "  'i' => (14, 80)\n",
       "  'r' => (80, 16)\n",
       "  'q' => (12, 60)\n",
       "  'P' => (64, 13)\n",
       "  'K' => (32, 71)\n",
       "  'I' => (76, 3)\n",
       "  'H' => (27, 10)\n",
       "  'a' => (54, 6)\n",
       "  'c' => (68, 6)\n",
       "  'p' => (58, 76)\n",
       "  'U' => (15, 40)\n",
       "  'x' => (20, 70)\n",
       "  'u' => (68, 40)\n",
       "  'V' => (3, 40)\n",
       "  'd' => (20, 78)\n",
       "  '@' => (41, 41)\n",
       "  'e' => (26, 74)\n",
       "  'D' => (30, 21)\n",
       "  'j' => (22, 22)\n",
       "  ⋮   => ⋮"
      ]
     },
     "execution_count": 6,
     "metadata": {},
     "output_type": "execute_result"
    }
   ],
   "source": [
    "keyLocations = Dict(\n",
    "    maze[idx] => Tuple(idx) for idx in keys(maze) if islowercase(maze[idx])\n",
    ")\n",
    "doorLocations = Dict(\n",
    "    maze[idx] => Tuple(idx) for idx in keys(maze) if isuppercase(maze[idx])\n",
    ")\n",
    "points = merge(keyLocations, doorLocations, Dict('@' => Tuple(findfirst(==('@'), maze))))"
   ]
  },
  {
   "cell_type": "code",
   "execution_count": 22,
   "metadata": {},
   "outputs": [
    {
     "data": {
      "text/plain": [
       "53-element Array{Char,1}:\n",
       " '@'\n",
       " 'A'\n",
       " 'B'\n",
       " 'C'\n",
       " 'D'\n",
       " 'E'\n",
       " 'F'\n",
       " 'G'\n",
       " 'H'\n",
       " 'I'\n",
       " 'J'\n",
       " 'K'\n",
       " 'L'\n",
       " ⋮  \n",
       " 'o'\n",
       " 'p'\n",
       " 'q'\n",
       " 'r'\n",
       " 's'\n",
       " 't'\n",
       " 'u'\n",
       " 'v'\n",
       " 'w'\n",
       " 'x'\n",
       " 'y'\n",
       " 'z'"
      ]
     },
     "execution_count": 22,
     "metadata": {},
     "output_type": "execute_result"
    }
   ],
   "source": [
    "pointsOrder = points |> keys |> collect |> sort"
   ]
  },
  {
   "cell_type": "code",
   "execution_count": 48,
   "metadata": {},
   "outputs": [],
   "source": [
    "struct State\n",
    "    pos::Char\n",
    "    keys::UInt32\n",
    "end"
   ]
  },
  {
   "cell_type": "code",
   "execution_count": 13,
   "metadata": {},
   "outputs": [
    {
     "data": {
      "text/plain": [
       "dist (generic function with 1 method)"
      ]
     },
     "execution_count": 13,
     "metadata": {},
     "output_type": "execute_result"
    }
   ],
   "source": [
    "dirs = [(0,-1),(0,+1),(-1,0),(+1,0)]\n",
    "dist(a, b) = abs.(a .- b) |> sum"
   ]
  },
  {
   "cell_type": "code",
   "execution_count": 73,
   "metadata": {},
   "outputs": [
    {
     "data": {
      "text/plain": [
       "valid (generic function with 1 method)"
      ]
     },
     "execution_count": 73,
     "metadata": {},
     "output_type": "execute_result"
    }
   ],
   "source": [
    "function valid(s::State)\n",
    "    if s.pos in 'A':'Z'\n",
    "        i = s.pos - 'A'\n",
    "        s.keys & (1 << i) != 0\n",
    "    else\n",
    "        true\n",
    "    end\n",
    "end"
   ]
  },
  {
   "cell_type": "code",
   "execution_count": 50,
   "metadata": {},
   "outputs": [
    {
     "data": {
      "text/plain": [
       "done (generic function with 1 method)"
      ]
     },
     "execution_count": 50,
     "metadata": {},
     "output_type": "execute_result"
    }
   ],
   "source": [
    "done(s::State) = s.keys == 2^26-1"
   ]
  },
  {
   "cell_type": "code",
   "execution_count": 52,
   "metadata": {},
   "outputs": [
    {
     "data": {
      "text/plain": [
       "hval (generic function with 1 method)"
      ]
     },
     "execution_count": 52,
     "metadata": {},
     "output_type": "execute_result"
    }
   ],
   "source": [
    "function hval(s::State)\n",
    "    0\n",
    "end"
   ]
  },
  {
   "cell_type": "code",
   "execution_count": 11,
   "metadata": {},
   "outputs": [],
   "source": [
    "struct WithFScore{T}\n",
    "    fScores::Dict{Tuple{Int,Int},Int}\n",
    "    s::T\n",
    "end\n",
    "Base.isless(a::WithFScore{T}, b::WithFScore{T}) where {T} = a.fScores[a.s] < b.fScores[b.s]"
   ]
  },
  {
   "cell_type": "code",
   "execution_count": 25,
   "metadata": {},
   "outputs": [
    {
     "data": {
      "text/plain": [
       "shortest_path (generic function with 1 method)"
      ]
     },
     "execution_count": 25,
     "metadata": {},
     "output_type": "execute_result"
    }
   ],
   "source": [
    "function shortest_path(source, destination)\n",
    "    gScores = Dict{Tuple{Int,Int},Int}(source => 0)\n",
    "    fScores = Dict{Tuple{Int,Int},Int}(source => dist(source, destination))\n",
    "\n",
    "    open = [WithFScore(fScores, source)]\n",
    "    while !isempty(open)\n",
    "        s = heappop!(open).s\n",
    "        if s == destination\n",
    "            return gScores[s]\n",
    "        end\n",
    "        for dir in dirs\n",
    "            newS = s .+ dir\n",
    "            if maze[CartesianIndex(newS)] == '.' || newS == destination\n",
    "                tentative_gScore = gScores[s] + 1\n",
    "                if !haskey(gScores, newS) || tentative_gScore < gScores[newS]\n",
    "                    if !haskey(fScores, newS)\n",
    "                        fScores[newS] = tentative_gScore + dist(newS, destination)\n",
    "                    end\n",
    "                    gScores[newS] = tentative_gScore\n",
    "\n",
    "                    sortedS = WithFScore(fScores, newS)\n",
    "                    if !(sortedS in open)\n",
    "                        heappush!(open, sortedS)\n",
    "                    end\n",
    "                end\n",
    "            end\n",
    "        end\n",
    "    end\n",
    "    Inf\n",
    "end"
   ]
  },
  {
   "cell_type": "code",
   "execution_count": 46,
   "metadata": {},
   "outputs": [
    {
     "data": {
      "text/plain": [
       "Dict{Char,Dict{Char,Int64}} with 53 entries:\n",
       "  'w' => Dict('d'=>20,'q'=>22)\n",
       "  'E' => Dict('H'=>26,'X'=>18)\n",
       "  'Z' => Dict('k'=>39,'C'=>22)\n",
       "  'o' => Dict('N'=>195,'m'=>116,'g'=>36,'@'=>30,'R'=>141,'G'=>53,'T'=>181,'O'=>…\n",
       "  'B' => Dict('n'=>31,'t'=>13,'R'=>16)\n",
       "  'h' => Dict('K'=>43,'x'=>30,'e'=>20)\n",
       "  'i' => Dict('t'=>28)\n",
       "  'r' => Dict('M'=>5,'v'=>28)\n",
       "  'q' => Dict('J'=>25,'w'=>22)\n",
       "  'P' => Dict('L'=>14,'a'=>47)\n",
       "  'K' => Dict('n'=>133,'h'=>43)\n",
       "  'I' => Dict('c'=>23,'u'=>139,'G'=>158)\n",
       "  'H' => Dict('E'=>26,'k'=>61)\n",
       "  'a' => Dict('P'=>47,'y'=>20)\n",
       "  'c' => Dict('I'=>23,'y'=>38)\n",
       "  'p' => Dict('A'=>25,'l'=>20)\n",
       "  'U' => Dict('g'=>37,'V'=>18,'F'=>146)\n",
       "  'x' => Dict('h'=>30,'s'=>26,'e'=>42)\n",
       "  'u' => Dict('I'=>139,'v'=>24,'G'=>23)\n",
       "  'V' => Dict('U'=>18,'F'=>162)\n",
       "  'd' => Dict('w'=>20,'s'=>10)\n",
       "  '@' => Dict('b'=>124,'N'=>165,'m'=>88,'g'=>18,'o'=>30,'R'=>113,'G'=>25,'O'=>3…\n",
       "  'e' => Dict('h'=>20,'x'=>42)\n",
       "  'D' => Dict('W'=>12,'S'=>20)\n",
       "  'j' => Dict('Q'=>15)\n",
       "  ⋮   => ⋮"
      ]
     },
     "execution_count": 46,
     "metadata": {},
     "output_type": "execute_result"
    }
   ],
   "source": [
    "weights = Dict(\n",
    "    srcK => Dict(\n",
    "        Iterators.filter(x->x[1] != srcK && x[2] isa Int, dstK => shortest_path(srcV, dstV) for (dstK,dstV) in points)\n",
    "    ) for (srcK,srcV) in points\n",
    ")"
   ]
  },
  {
   "cell_type": "code",
   "execution_count": 53,
   "metadata": {},
   "outputs": [],
   "source": [
    "struct SortedState\n",
    "    fScores::Dict{State,Int}\n",
    "    s::State\n",
    "end\n",
    "Base.isless(a::SortedState, b::SortedState) = a.fScores[a.s] < b.fScores[b.s]"
   ]
  },
  {
   "cell_type": "code",
   "execution_count": 76,
   "metadata": {},
   "outputs": [
    {
     "name": "stdout",
     "output_type": "stream",
     "text": [
      "(gScores[s], s) = (4042, State('j', 0x03ffffff))\n"
     ]
    }
   ],
   "source": [
    "let start = State('@', 0)\n",
    "    gScores = Dict{State,Int}(start => 0)\n",
    "    fScores = Dict{State,Int}(start => hval(start))\n",
    "\n",
    "    open = [SortedState(fScores, start)]\n",
    "    while !isempty(open)\n",
    "        s = heappop!(open).s\n",
    "        if done(s)\n",
    "            @show gScores[s],s\n",
    "            break\n",
    "        end\n",
    "        for (pos,dist) in weights[s.pos]\n",
    "            keys = if pos in 'a':'z'\n",
    "                s.keys | (1 << (pos - 'a'))\n",
    "            else\n",
    "                s.keys\n",
    "            end\n",
    "            newS = State(pos,keys)\n",
    "\n",
    "            if valid(newS)\n",
    "                tentative_gScore = gScores[s] + dist\n",
    "                if !haskey(gScores, newS) || tentative_gScore < gScores[newS]\n",
    "                    if !haskey(fScores, newS)\n",
    "                        fScores[newS] = tentative_gScore + hval(newS)\n",
    "                    end\n",
    "                    gScores[newS] = tentative_gScore\n",
    "\n",
    "                    sortedS = SortedState(fScores, newS)\n",
    "                    if !(sortedS in open)\n",
    "                        heappush!(open, sortedS)\n",
    "                    end\n",
    "                end\n",
    "            end\n",
    "        end\n",
    "    end\n",
    "end"
   ]
  },
  {
   "cell_type": "code",
   "execution_count": 25,
   "metadata": {},
   "outputs": [
    {
     "data": {
      "text/plain": [
       "Dict{State,Int64} with 50034 entries:\n",
       "  State((9, 54), 0x00320042)  => 339\n",
       "  State((77, 50), 0x00004040) => 425\n",
       "  State((68, 47), 0x00005040) => 397\n",
       "  State((42, 53), 0x00004040) => 447\n",
       "  State((11, 48), 0x00101040) => 357\n",
       "  State((4, 52), 0x00305040)  => 360\n",
       "  State((43, 22), 0x00001040) => 391\n",
       "  State((62, 52), 0x00001000) => 460\n",
       "  State((74, 76), 0x00300040) => 424\n",
       "  State((32, 25), 0x00300040) => 371\n",
       "  State((37, 48), 0x00100042) => 385\n",
       "  State((34, 26), 0x00000042) => 380\n",
       "  State((54, 36), 0x00000040) => 408\n",
       "  State((8, 50), 0x00000040)  => 378\n",
       "  State((46, 16), 0x00304040) => 394\n",
       "  State((52, 50), 0x00000000) => 472\n",
       "  State((52, 34), 0x00301042) => 402\n",
       "  State((58, 26), 0x00320040) => 378\n",
       "  State((71, 20), 0x00325040) => 349\n",
       "  State((46, 8), 0x00000002)  => 426\n",
       "  State((74, 48), 0x00320040) => 372\n",
       "  State((50, 2), 0x00320042)  => 342\n",
       "  State((59, 42), 0x00100042) => 415\n",
       "  State((32, 80), 0x023298e2) => 274\n",
       "  State((52, 20), 0x00005042) => 396\n",
       "  ⋮                           => ⋮"
      ]
     },
     "execution_count": 25,
     "metadata": {},
     "output_type": "execute_result"
    }
   ],
   "source": [
    "hScores"
   ]
  },
  {
   "cell_type": "markdown",
   "metadata": {},
   "source": [
    "# Day 19"
   ]
  },
  {
   "cell_type": "code",
   "execution_count": 77,
   "metadata": {},
   "outputs": [
    {
     "data": {
      "text/plain": [
       "424-element Array{Int64,1}:\n",
       "   109\n",
       "   424\n",
       "   203\n",
       "     1\n",
       " 21101\n",
       "    11\n",
       "     0\n",
       "     0\n",
       "  1106\n",
       "     0\n",
       "   282\n",
       " 21102\n",
       "     1\n",
       "     ⋮\n",
       "    -3\n",
       "    -2\n",
       "     1\n",
       " 22102\n",
       "     1\n",
       "     1\n",
       "    -4\n",
       "   109\n",
       "    -5\n",
       "  2105\n",
       "     1\n",
       "     0"
      ]
     },
     "execution_count": 77,
     "metadata": {},
     "output_type": "execute_result"
    }
   ],
   "source": [
    "include(\"Intcode.jl\")\n",
    "input = parse.(Int,split(readline(\"input19.txt\"), \",\"))"
   ]
  },
  {
   "cell_type": "code",
   "execution_count": 84,
   "metadata": {},
   "outputs": [
    {
     "data": {
      "text/plain": [
       "50×50 Array{Int64,2}:\n",
       " 1  0  0  0  0  0  0  0  0  0  0  0  0  …  0  0  0  0  0  0  0  0  0  0  0  0\n",
       " 0  0  0  0  0  0  0  0  0  0  0  0  0     0  0  0  0  0  0  0  0  0  0  0  0\n",
       " 0  0  0  0  0  0  0  0  0  0  0  0  0     0  0  0  0  0  0  0  0  0  0  0  0\n",
       " 0  0  0  0  0  0  0  0  0  0  0  0  0     0  0  0  0  0  0  0  0  0  0  0  0\n",
       " 0  0  0  0  0  0  0  0  0  0  0  0  0     0  0  0  0  0  0  0  0  0  0  0  0\n",
       " 0  0  0  0  0  0  0  0  0  0  0  0  0  …  0  0  0  0  0  0  0  0  0  0  0  0\n",
       " 0  0  0  0  0  1  0  0  0  0  0  0  0     0  0  0  0  0  0  0  0  0  0  0  0\n",
       " 0  0  0  0  0  0  1  0  0  0  0  0  0     0  0  0  0  0  0  0  0  0  0  0  0\n",
       " 0  0  0  0  0  0  0  1  0  0  0  0  0     0  0  0  0  0  0  0  0  0  0  0  0\n",
       " 0  0  0  0  0  0  0  0  1  0  0  0  0     0  0  0  0  0  0  0  0  0  0  0  0\n",
       " 0  0  0  0  0  0  0  0  0  1  0  0  0  …  0  0  0  0  0  0  0  0  0  0  0  0\n",
       " 0  0  0  0  0  0  0  0  0  1  0  0  0     0  0  0  0  0  0  0  0  0  0  0  0\n",
       " 0  0  0  0  0  0  0  0  0  0  1  0  0     0  0  0  0  0  0  0  0  0  0  0  0\n",
       " ⋮              ⋮              ⋮        ⋱        ⋮              ⋮            \n",
       " 0  0  0  0  0  0  0  0  0  0  0  0  0     0  0  0  0  0  0  0  0  0  0  0  0\n",
       " 0  0  0  0  0  0  0  0  0  0  0  0  0     0  0  0  0  0  0  0  0  0  0  0  0\n",
       " 0  0  0  0  0  0  0  0  0  0  0  0  0  …  0  0  0  0  0  0  0  0  0  0  0  0\n",
       " 0  0  0  0  0  0  0  0  0  0  0  0  0     0  0  0  0  0  0  0  0  0  0  0  0\n",
       " 0  0  0  0  0  0  0  0  0  0  0  0  0     1  0  0  0  0  0  0  0  0  0  0  0\n",
       " 0  0  0  0  0  0  0  0  0  0  0  0  0     1  1  0  0  0  0  0  0  0  0  0  0\n",
       " 0  0  0  0  0  0  0  0  0  0  0  0  0     1  1  0  0  0  0  0  0  0  0  0  0\n",
       " 0  0  0  0  0  0  0  0  0  0  0  0  0  …  1  1  1  0  0  0  0  0  0  0  0  0\n",
       " 0  0  0  0  0  0  0  0  0  0  0  0  0     1  1  1  1  0  0  0  0  0  0  0  0\n",
       " 0  0  0  0  0  0  0  0  0  0  0  0  0     0  1  1  1  1  0  0  0  0  0  0  0\n",
       " 0  0  0  0  0  0  0  0  0  0  0  0  0     0  1  1  1  1  1  0  0  0  0  0  0\n",
       " 0  0  0  0  0  0  0  0  0  0  0  0  0     0  0  1  1  1  1  1  0  0  0  0  0"
      ]
     },
     "execution_count": 84,
     "metadata": {},
     "output_type": "execute_result"
    }
   ],
   "source": [
    "beamMap = [let cpu = Intcode(input)\n",
    "    enqueue!(cpu.input, i)\n",
    "    enqueue!(cpu.input, j)\n",
    "    while !isdone(cpu)\n",
    "        next!(cpu)\n",
    "    end\n",
    "    dequeue!(cpu.output)\n",
    "end for i = 0:49, j = 0:49]"
   ]
  },
  {
   "cell_type": "code",
   "execution_count": 85,
   "metadata": {},
   "outputs": [
    {
     "data": {
      "text/plain": [
       "118"
      ]
     },
     "execution_count": 85,
     "metadata": {},
     "output_type": "execute_result"
    }
   ],
   "source": [
    "sum(beamMap)"
   ]
  },
  {
   "cell_type": "code",
   "execution_count": 86,
   "metadata": {},
   "outputs": [
    {
     "name": "stdout",
     "output_type": "stream",
     "text": [
      "10000000000000000000000000000000000000000000000000\n",
      "00000000000000000000000000000000000000000000000000\n",
      "00000000000000000000000000000000000000000000000000\n",
      "00000000000000000000000000000000000000000000000000\n",
      "00000000000000000000000000000000000000000000000000\n",
      "00000000000000000000000000000000000000000000000000\n",
      "00000100000000000000000000000000000000000000000000\n",
      "00000010000000000000000000000000000000000000000000\n",
      "00000001000000000000000000000000000000000000000000\n",
      "00000000100000000000000000000000000000000000000000\n",
      "00000000010000000000000000000000000000000000000000\n",
      "00000000010000000000000000000000000000000000000000\n",
      "00000000001000000000000000000000000000000000000000\n",
      "00000000000100000000000000000000000000000000000000\n",
      "00000000000010000000000000000000000000000000000000\n",
      "00000000000001000000000000000000000000000000000000\n",
      "00000000000001100000000000000000000000000000000000\n",
      "00000000000000110000000000000000000000000000000000\n",
      "00000000000000011000000000000000000000000000000000\n",
      "00000000000000001100000000000000000000000000000000\n",
      "00000000000000000110000000000000000000000000000000\n",
      "00000000000000000011000000000000000000000000000000\n",
      "00000000000000000011000000000000000000000000000000\n",
      "00000000000000000001100000000000000000000000000000\n",
      "00000000000000000000110000000000000000000000000000\n",
      "00000000000000000000011000000000000000000000000000\n",
      "00000000000000000000001100000000000000000000000000\n",
      "00000000000000000000001110000000000000000000000000\n",
      "00000000000000000000000111000000000000000000000000\n",
      "00000000000000000000000011100000000000000000000000\n",
      "00000000000000000000000001110000000000000000000000\n",
      "00000000000000000000000000111000000000000000000000\n",
      "00000000000000000000000000111100000000000000000000\n",
      "00000000000000000000000000011100000000000000000000\n",
      "00000000000000000000000000001110000000000000000000\n",
      "00000000000000000000000000000111000000000000000000\n",
      "00000000000000000000000000000011100000000000000000\n",
      "00000000000000000000000000000001110000000000000000\n",
      "00000000000000000000000000000001111000000000000000\n",
      "00000000000000000000000000000000111100000000000000\n",
      "00000000000000000000000000000000011110000000000000\n",
      "00000000000000000000000000000000001111000000000000\n",
      "00000000000000000000000000000000000111100000000000\n",
      "00000000000000000000000000000000000111110000000000\n",
      "00000000000000000000000000000000000011110000000000\n",
      "00000000000000000000000000000000000001111000000000\n",
      "00000000000000000000000000000000000000111100000000\n",
      "00000000000000000000000000000000000000011110000000\n",
      "00000000000000000000000000000000000000011111000000\n",
      "00000000000000000000000000000000000000001111100000\n"
     ]
    },
    {
     "data": {
      "text/plain": [
       "50-element Array{Nothing,1}:\n",
       " nothing\n",
       " nothing\n",
       " nothing\n",
       " nothing\n",
       " nothing\n",
       " nothing\n",
       " nothing\n",
       " nothing\n",
       " nothing\n",
       " nothing\n",
       " nothing\n",
       " nothing\n",
       " nothing\n",
       " ⋮      \n",
       " nothing\n",
       " nothing\n",
       " nothing\n",
       " nothing\n",
       " nothing\n",
       " nothing\n",
       " nothing\n",
       " nothing\n",
       " nothing\n",
       " nothing\n",
       " nothing\n",
       " nothing"
      ]
     },
     "execution_count": 86,
     "metadata": {},
     "output_type": "execute_result"
    }
   ],
   "source": [
    "println.(join.(eachrow(beamMap)))"
   ]
  },
  {
   "cell_type": "code",
   "execution_count": 88,
   "metadata": {},
   "outputs": [
    {
     "name": "stdout",
     "output_type": "stream",
     "text": [
      "[1, 0, 0, 0, 0, 0, 1, 1, 1, 1, 1, 1, 1, 1, 1, 1, 2, 2, 2, 2, 2, 2, 2, 2, 2, 2, 2, 3, 3, 3, 3, 3, 4, 3, 3, 3, 3, 3, 4, 4, 4, 4, 4, 5, 4, 4, 4, 4, 5, 5]\n"
     ]
    }
   ],
   "source": [
    "println(sum.(eachrow(beamMap)))"
   ]
  },
  {
   "cell_type": "code",
   "execution_count": null,
   "metadata": {},
   "outputs": [],
   "source": []
  }
 ],
 "metadata": {
  "kernelspec": {
   "display_name": "Julia 1.3.0",
   "language": "julia",
   "name": "julia-1.3"
  },
  "language_info": {
   "file_extension": ".jl",
   "mimetype": "application/julia",
   "name": "julia",
   "version": "1.3.0"
  }
 },
 "nbformat": 4,
 "nbformat_minor": 4
}
